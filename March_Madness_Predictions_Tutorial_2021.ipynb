{
 "cells": [
  {
   "cell_type": "markdown",
   "metadata": {},
   "source": [
    "## March Madness Logistic Regression"
   ]
  },
  {
   "cell_type": "code",
   "execution_count": 1,
   "metadata": {
    "ExecuteTime": {
     "end_time": "2020-02-10T14:22:04.902076Z",
     "start_time": "2020-02-10T14:22:04.031117Z"
    }
   },
   "outputs": [],
   "source": [
    "%matplotlib inline\n",
    "import matplotlib.pyplot as plt\n",
    "plt.style.use('ggplot')\n",
    "\n",
    "from math import sin, cos, sqrt, atan2, radians\n",
    "import numpy as np\n",
    "import pandas as pd\n",
    "import random\n",
    "from sklearn.linear_model import LogisticRegression\n",
    "from sklearn.metrics import (auc, classification_report, roc_auc_score, accuracy_score,\n",
    "                             f1_score, log_loss, roc_curve, confusion_matrix, precision_score, recall_score)\n",
    "from sklearn.preprocessing import StandardScaler\n",
    "import statsmodels.api as sm"
   ]
  },
  {
   "cell_type": "code",
   "execution_count": 2,
   "metadata": {
    "ExecuteTime": {
     "end_time": "2020-02-10T14:22:05.378883Z",
     "start_time": "2020-02-10T14:22:05.354596Z"
    }
   },
   "outputs": [],
   "source": [
    "def distance(lat1, lon1, lat2, lon2):\n",
    "\n",
    "    # approximate radius of earth in km\n",
    "    R = 6373.0\n",
    "\n",
    "    lat1 = radians(lat1)\n",
    "    lon1 = radians(lon1)\n",
    "    lat2 = radians(lat2)\n",
    "    lon2 = radians(lon2)\n",
    "\n",
    "    dlon = lon2 - lon1\n",
    "    dlat = lat2 - lat1\n",
    "\n",
    "    a = sin(dlat / 2)**2 + cos(lat1) * cos(lat2) * sin(dlon / 2)**2\n",
    "    c = 2 * atan2(sqrt(a), sqrt(1 - a))\n",
    "\n",
    "    distance = R * c\n",
    "    \n",
    "    return distance"
   ]
  },
  {
   "cell_type": "code",
   "execution_count": 3,
   "metadata": {
    "ExecuteTime": {
     "end_time": "2020-02-10T20:38:45.598989Z",
     "start_time": "2020-02-10T20:38:45.515068Z"
    }
   },
   "outputs": [],
   "source": [
    "mm_data = pd.read_csv('NCAA_Tourney_2002_2019_update.csv')"
   ]
  },
  {
   "cell_type": "code",
   "execution_count": 4,
   "metadata": {
    "ExecuteTime": {
     "end_time": "2020-02-10T20:38:50.673807Z",
     "start_time": "2020-02-10T20:38:50.668525Z"
    },
    "scrolled": true
   },
   "outputs": [
    {
     "data": {
      "text/plain": [
       "['team1_id',\n",
       " 'team1_score',\n",
       " 'team2_id',\n",
       " 'team2_score',\n",
       " 'WLoc',\n",
       " 'num_ot',\n",
       " 'team1_position',\n",
       " 'team2_position',\n",
       " 'team1_seed',\n",
       " 'team2_seed',\n",
       " 'strongseed',\n",
       " 'weakseed',\n",
       " 'team1_region',\n",
       " 'team2_region',\n",
       " 'slot',\n",
       " 'team1_teamname',\n",
       " 'team2_teamname',\n",
       " 'season',\n",
       " 'host',\n",
       " 'host_lat',\n",
       " 'host_long',\n",
       " 'team1_lat',\n",
       " 'team1_long',\n",
       " 'team2_lat',\n",
       " 'team2_long',\n",
       " 'team1_coach_id',\n",
       " 'team1_pt_school_ncaa',\n",
       " 'team1_pt_overall_ncaa',\n",
       " 'team1_pt_school_s16',\n",
       " 'team1_pt_overall_s16',\n",
       " 'team1_pt_school_ff',\n",
       " 'team1_pt_overall_ff',\n",
       " 'team1_pt_career_school_wins',\n",
       " 'team1_pt_career_school_losses',\n",
       " 'team1_pt_career_overall_wins',\n",
       " 'team1_pt_career_overall_losses',\n",
       " 'team1_pt_team_season_wins',\n",
       " 'team1_pt_team_season_losses',\n",
       " 'team1_pt_coach_season_wins',\n",
       " 'team1_pt_coach_season_losses',\n",
       " 'team2_coach_id',\n",
       " 'team2_pt_school_ncaa',\n",
       " 'team2_pt_overall_ncaa',\n",
       " 'team2_pt_school_s16',\n",
       " 'team2_pt_overall_s16',\n",
       " 'team2_pt_school_ff',\n",
       " 'team2_pt_overall_ff',\n",
       " 'team2_pt_career_school_wins',\n",
       " 'team2_pt_career_school_losses',\n",
       " 'team2_pt_career_overall_wins',\n",
       " 'team2_pt_career_overall_losses',\n",
       " 'team2_pt_team_season_wins',\n",
       " 'team2_pt_team_season_losses',\n",
       " 'team2_pt_coach_season_wins',\n",
       " 'team2_pt_coach_season_losses',\n",
       " 'team1_ap_final',\n",
       " 'team1_ap_preseason',\n",
       " 'team1_coaches_before_final',\n",
       " 'team1_coaches_preseason',\n",
       " 'team2_ap_final',\n",
       " 'team2_ap_preseason',\n",
       " 'team2_coaches_before_final',\n",
       " 'team2_coaches_preseason',\n",
       " 'team1_fg2pct',\n",
       " 'team1_fg3pct',\n",
       " 'team1_ftpct',\n",
       " 'team1_blockpct',\n",
       " 'team1_oppfg2pct',\n",
       " 'team1_oppfg3pct',\n",
       " 'team1_oppftpct',\n",
       " 'team1_oppblockpct',\n",
       " 'team1_f3grate',\n",
       " 'team1_oppf3grate',\n",
       " 'team1_arate',\n",
       " 'team1_opparate',\n",
       " 'team1_stlrate',\n",
       " 'team1_oppstlrate',\n",
       " 'team2_fg2pct',\n",
       " 'team2_fg3pct',\n",
       " 'team2_ftpct',\n",
       " 'team2_blockpct',\n",
       " 'team2_oppfg2pct',\n",
       " 'team2_oppfg3pct',\n",
       " 'team2_oppftpct',\n",
       " 'team2_oppblockpct',\n",
       " 'team2_f3grate',\n",
       " 'team2_oppf3grate',\n",
       " 'team2_arate',\n",
       " 'team2_opparate',\n",
       " 'team2_stlrate',\n",
       " 'team2_oppstlrate',\n",
       " 'team1_tempo',\n",
       " 'team1_adjtempo',\n",
       " 'team1_oe',\n",
       " 'team1_adjoe',\n",
       " 'team1_de',\n",
       " 'team1_adjde',\n",
       " 'team2_tempo',\n",
       " 'team2_adjtempo',\n",
       " 'team2_oe',\n",
       " 'team2_adjoe',\n",
       " 'team2_de',\n",
       " 'team2_adjde',\n",
       " 'game_id']"
      ]
     },
     "execution_count": 4,
     "metadata": {},
     "output_type": "execute_result"
    }
   ],
   "source": [
    "mm_data.columns.tolist()"
   ]
  },
  {
   "cell_type": "code",
   "execution_count": 5,
   "metadata": {
    "ExecuteTime": {
     "end_time": "2020-02-10T14:22:06.166676Z",
     "start_time": "2020-02-10T14:22:06.013988Z"
    }
   },
   "outputs": [],
   "source": [
    "mm_data['dist1'] = mm_data.apply(lambda row: distance(row['host_lat'], row['host_long'], row['team1_lat'], row['team1_long']), axis=1)\n",
    "mm_data['dist2'] = mm_data.apply(lambda row: distance(row['host_lat'], row['host_long'], row['team2_lat'], row['team2_long']), axis=1)"
   ]
  },
  {
   "cell_type": "code",
   "execution_count": 6,
   "metadata": {
    "ExecuteTime": {
     "end_time": "2020-02-10T14:22:06.432705Z",
     "start_time": "2020-02-10T14:22:06.369944Z"
    }
   },
   "outputs": [],
   "source": [
    "mm_data['diff_dist'] = mm_data['dist1'] - mm_data['dist2']"
   ]
  },
  {
   "cell_type": "markdown",
   "metadata": {},
   "source": [
    "## Pythag College Basketball\n",
    "E(W%) = points scored^11.5 / (points scored^11.5+points allowed^11.5)"
   ]
  },
  {
   "cell_type": "code",
   "execution_count": 7,
   "metadata": {
    "ExecuteTime": {
     "end_time": "2020-02-10T14:22:06.899914Z",
     "start_time": "2020-02-10T14:22:06.882549Z"
    }
   },
   "outputs": [],
   "source": [
    "mm_data['exp_win1'] = (mm_data['team1_adjoe']**11.5)/ ((mm_data['team1_adjde']**11.5)+(mm_data['team1_adjoe']**11.5))\n",
    "mm_data['exp_win2'] = (mm_data['team2_adjoe']**11.5)/ ((mm_data['team2_adjde']**11.5)+(mm_data['team2_adjoe']**11.5))"
   ]
  },
  {
   "cell_type": "markdown",
   "metadata": {},
   "source": [
    "## Log 5\n",
    "P(W) = (A - A * B) / (A + B - 2*A*B)"
   ]
  },
  {
   "cell_type": "code",
   "execution_count": 8,
   "metadata": {
    "ExecuteTime": {
     "end_time": "2020-02-10T14:22:07.337477Z",
     "start_time": "2020-02-10T14:22:07.327841Z"
    }
   },
   "outputs": [],
   "source": [
    "mm_data['team1_log5'] = (mm_data['exp_win1'] - (mm_data['exp_win1']*mm_data['exp_win2']))/ (mm_data['exp_win1']+mm_data['exp_win2']-(2*mm_data['exp_win1']*mm_data['exp_win2']))"
   ]
  },
  {
   "cell_type": "code",
   "execution_count": 9,
   "metadata": {
    "ExecuteTime": {
     "end_time": "2020-02-10T14:22:07.564156Z",
     "start_time": "2020-02-10T14:22:07.538354Z"
    }
   },
   "outputs": [
    {
     "data": {
      "text/html": [
       "<div>\n",
       "<style scoped>\n",
       "    .dataframe tbody tr th:only-of-type {\n",
       "        vertical-align: middle;\n",
       "    }\n",
       "\n",
       "    .dataframe tbody tr th {\n",
       "        vertical-align: top;\n",
       "    }\n",
       "\n",
       "    .dataframe thead th {\n",
       "        text-align: right;\n",
       "    }\n",
       "</style>\n",
       "<table border=\"1\" class=\"dataframe\">\n",
       "  <thead>\n",
       "    <tr style=\"text-align: right;\">\n",
       "      <th></th>\n",
       "      <th>team1_adjoe</th>\n",
       "      <th>team1_teamname</th>\n",
       "      <th>season</th>\n",
       "      <th>team2_teamname</th>\n",
       "      <th>team1_adjde</th>\n",
       "      <th>exp_win1</th>\n",
       "      <th>exp_win2</th>\n",
       "      <th>team1_log5</th>\n",
       "    </tr>\n",
       "  </thead>\n",
       "  <tbody>\n",
       "    <tr>\n",
       "      <th>0</th>\n",
       "      <td>106.296</td>\n",
       "      <td>F Dickinson</td>\n",
       "      <td>2019</td>\n",
       "      <td>Prairie View</td>\n",
       "      <td>110.5500</td>\n",
       "      <td>0.389061</td>\n",
       "      <td>0.382990</td>\n",
       "      <td>0.506403</td>\n",
       "    </tr>\n",
       "    <tr>\n",
       "      <th>1</th>\n",
       "      <td>114.952</td>\n",
       "      <td>Belmont</td>\n",
       "      <td>2019</td>\n",
       "      <td>Temple</td>\n",
       "      <td>101.8860</td>\n",
       "      <td>0.800207</td>\n",
       "      <td>0.738939</td>\n",
       "      <td>0.585922</td>\n",
       "    </tr>\n",
       "    <tr>\n",
       "      <th>2</th>\n",
       "      <td>106.675</td>\n",
       "      <td>N Dakota St</td>\n",
       "      <td>2019</td>\n",
       "      <td>NC Central</td>\n",
       "      <td>109.8730</td>\n",
       "      <td>0.415885</td>\n",
       "      <td>0.208404</td>\n",
       "      <td>0.730051</td>\n",
       "    </tr>\n",
       "    <tr>\n",
       "      <th>3</th>\n",
       "      <td>109.886</td>\n",
       "      <td>Arizona St</td>\n",
       "      <td>2019</td>\n",
       "      <td>St John's</td>\n",
       "      <td>98.6844</td>\n",
       "      <td>0.774944</td>\n",
       "      <td>0.721882</td>\n",
       "      <td>0.570190</td>\n",
       "    </tr>\n",
       "    <tr>\n",
       "      <th>4</th>\n",
       "      <td>110.803</td>\n",
       "      <td>Minnesota</td>\n",
       "      <td>2019</td>\n",
       "      <td>Louisville</td>\n",
       "      <td>96.3335</td>\n",
       "      <td>0.833312</td>\n",
       "      <td>0.913200</td>\n",
       "      <td>0.322116</td>\n",
       "    </tr>\n",
       "  </tbody>\n",
       "</table>\n",
       "</div>"
      ],
      "text/plain": [
       "   team1_adjoe team1_teamname  season team2_teamname  team1_adjde  exp_win1  \\\n",
       "0      106.296    F Dickinson    2019   Prairie View     110.5500  0.389061   \n",
       "1      114.952        Belmont    2019         Temple     101.8860  0.800207   \n",
       "2      106.675    N Dakota St    2019     NC Central     109.8730  0.415885   \n",
       "3      109.886     Arizona St    2019      St John's      98.6844  0.774944   \n",
       "4      110.803      Minnesota    2019     Louisville      96.3335  0.833312   \n",
       "\n",
       "   exp_win2  team1_log5  \n",
       "0  0.382990    0.506403  \n",
       "1  0.738939    0.585922  \n",
       "2  0.208404    0.730051  \n",
       "3  0.721882    0.570190  \n",
       "4  0.913200    0.322116  "
      ]
     },
     "execution_count": 9,
     "metadata": {},
     "output_type": "execute_result"
    }
   ],
   "source": [
    "mm_data[['team1_adjoe','team1_teamname','season','team2_teamname','team1_adjde','exp_win1','exp_win2','team1_log5']].head()"
   ]
  },
  {
   "cell_type": "markdown",
   "metadata": {},
   "source": [
    "## Seed Diff"
   ]
  },
  {
   "cell_type": "code",
   "execution_count": 10,
   "metadata": {
    "ExecuteTime": {
     "end_time": "2020-02-10T14:22:07.942397Z",
     "start_time": "2020-02-10T14:22:07.937951Z"
    }
   },
   "outputs": [],
   "source": [
    "mm_data['seed_diff'] = mm_data['team1_seed'] - mm_data['team2_seed']"
   ]
  },
  {
   "cell_type": "code",
   "execution_count": 11,
   "metadata": {
    "ExecuteTime": {
     "end_time": "2020-02-10T14:22:08.389857Z",
     "start_time": "2020-02-10T14:22:08.370507Z"
    }
   },
   "outputs": [
    {
     "data": {
      "text/html": [
       "<div>\n",
       "<style scoped>\n",
       "    .dataframe tbody tr th:only-of-type {\n",
       "        vertical-align: middle;\n",
       "    }\n",
       "\n",
       "    .dataframe tbody tr th {\n",
       "        vertical-align: top;\n",
       "    }\n",
       "\n",
       "    .dataframe thead th {\n",
       "        text-align: right;\n",
       "    }\n",
       "</style>\n",
       "<table border=\"1\" class=\"dataframe\">\n",
       "  <thead>\n",
       "    <tr style=\"text-align: right;\">\n",
       "      <th></th>\n",
       "      <th>game_id</th>\n",
       "      <th>exp_win1</th>\n",
       "      <th>exp_win2</th>\n",
       "      <th>team2_score</th>\n",
       "      <th>team1_score</th>\n",
       "      <th>diff_dist</th>\n",
       "      <th>team1_log5</th>\n",
       "      <th>team1_id</th>\n",
       "      <th>team2_id</th>\n",
       "    </tr>\n",
       "  </thead>\n",
       "  <tbody>\n",
       "    <tr>\n",
       "      <th>0</th>\n",
       "      <td>2019-1192.0-1341.0</td>\n",
       "      <td>0.389061</td>\n",
       "      <td>0.382990</td>\n",
       "      <td>76</td>\n",
       "      <td>82</td>\n",
       "      <td>-648.033425</td>\n",
       "      <td>0.506403</td>\n",
       "      <td>1192.0</td>\n",
       "      <td>1341.0</td>\n",
       "    </tr>\n",
       "    <tr>\n",
       "      <th>1</th>\n",
       "      <td>2019-1125.0-1396.0</td>\n",
       "      <td>0.800207</td>\n",
       "      <td>0.738939</td>\n",
       "      <td>70</td>\n",
       "      <td>81</td>\n",
       "      <td>-307.876634</td>\n",
       "      <td>0.585922</td>\n",
       "      <td>1125.0</td>\n",
       "      <td>1396.0</td>\n",
       "    </tr>\n",
       "    <tr>\n",
       "      <th>2</th>\n",
       "      <td>2019-1295.0-1300.0</td>\n",
       "      <td>0.415885</td>\n",
       "      <td>0.208404</td>\n",
       "      <td>74</td>\n",
       "      <td>78</td>\n",
       "      <td>663.316546</td>\n",
       "      <td>0.730051</td>\n",
       "      <td>1295.0</td>\n",
       "      <td>1300.0</td>\n",
       "    </tr>\n",
       "    <tr>\n",
       "      <th>3</th>\n",
       "      <td>2019-1113.0-1385.0</td>\n",
       "      <td>0.774944</td>\n",
       "      <td>0.721882</td>\n",
       "      <td>65</td>\n",
       "      <td>74</td>\n",
       "      <td>1676.167033</td>\n",
       "      <td>0.570190</td>\n",
       "      <td>1113.0</td>\n",
       "      <td>1385.0</td>\n",
       "    </tr>\n",
       "    <tr>\n",
       "      <th>4</th>\n",
       "      <td>2019-1278.0-1257.0</td>\n",
       "      <td>0.833312</td>\n",
       "      <td>0.913200</td>\n",
       "      <td>76</td>\n",
       "      <td>86</td>\n",
       "      <td>-391.001293</td>\n",
       "      <td>0.322116</td>\n",
       "      <td>1278.0</td>\n",
       "      <td>1257.0</td>\n",
       "    </tr>\n",
       "  </tbody>\n",
       "</table>\n",
       "</div>"
      ],
      "text/plain": [
       "              game_id  exp_win1  exp_win2  team2_score  team1_score  \\\n",
       "0  2019-1192.0-1341.0  0.389061  0.382990           76           82   \n",
       "1  2019-1125.0-1396.0  0.800207  0.738939           70           81   \n",
       "2  2019-1295.0-1300.0  0.415885  0.208404           74           78   \n",
       "3  2019-1113.0-1385.0  0.774944  0.721882           65           74   \n",
       "4  2019-1278.0-1257.0  0.833312  0.913200           76           86   \n",
       "\n",
       "     diff_dist  team1_log5  team1_id  team2_id  \n",
       "0  -648.033425    0.506403    1192.0    1341.0  \n",
       "1  -307.876634    0.585922    1125.0    1396.0  \n",
       "2   663.316546    0.730051    1295.0    1300.0  \n",
       "3  1676.167033    0.570190    1113.0    1385.0  \n",
       "4  -391.001293    0.322116    1278.0    1257.0  "
      ]
     },
     "execution_count": 11,
     "metadata": {},
     "output_type": "execute_result"
    }
   ],
   "source": [
    "mm_data[['game_id','exp_win1','exp_win2','team2_score','team1_score','diff_dist','team1_log5','team1_id','team2_id']].head()"
   ]
  },
  {
   "cell_type": "markdown",
   "metadata": {},
   "source": [
    "## Split Data"
   ]
  },
  {
   "cell_type": "code",
   "execution_count": 12,
   "metadata": {
    "ExecuteTime": {
     "end_time": "2020-02-10T14:22:08.858634Z",
     "start_time": "2020-02-10T14:22:08.850517Z"
    }
   },
   "outputs": [],
   "source": [
    "mm_data.dropna(subset=['team1_log5'], inplace=True)"
   ]
  },
  {
   "cell_type": "code",
   "execution_count": 13,
   "metadata": {
    "ExecuteTime": {
     "end_time": "2020-02-10T14:22:36.900090Z",
     "start_time": "2020-02-10T14:22:36.895585Z"
    }
   },
   "outputs": [],
   "source": [
    "mm_data['team1_win'] = (mm_data['team1_score']>mm_data['team2_score']).astype(int)"
   ]
  },
  {
   "cell_type": "code",
   "execution_count": 14,
   "metadata": {
    "ExecuteTime": {
     "end_time": "2020-02-10T14:23:07.085201Z",
     "start_time": "2020-02-10T14:23:07.074469Z"
    }
   },
   "outputs": [],
   "source": [
    "np.random.seed(0)\n",
    "\n",
    "def shuffle(df):     \n",
    "    df = df.reindex(np.random.permutation(df.index)).copy()\n",
    "    return df.reset_index(drop=True)\n",
    "random_indices = random.sample(range(len(mm_data)), int(len(mm_data)/2))"
   ]
  },
  {
   "cell_type": "code",
   "execution_count": 15,
   "metadata": {
    "ExecuteTime": {
     "end_time": "2020-02-10T14:23:19.761405Z",
     "start_time": "2020-02-10T14:23:19.748842Z"
    }
   },
   "outputs": [],
   "source": [
    "mm_data_1 = mm_data[~mm_data.index.isin(random_indices)][['game_id','season','team1_win','exp_win1','exp_win2','team2_score',\n",
    "                                                      'team1_score','diff_dist','team1_log5','team1_id','team2_id','seed_diff']].reset_index(drop=True)\n",
    "mm_data_2 = mm_data[mm_data.index.isin(random_indices)][['game_id','season','team1_win','exp_win1','exp_win2','team2_score',\n",
    "                                    'team1_score','diff_dist','team1_log5','team1_id','team2_id','seed_diff']].reset_index(drop=True)"
   ]
  },
  {
   "cell_type": "code",
   "execution_count": 16,
   "metadata": {
    "ExecuteTime": {
     "end_time": "2020-02-10T14:23:20.265747Z",
     "start_time": "2020-02-10T14:23:20.254549Z"
    }
   },
   "outputs": [],
   "source": [
    "mm_data_2['team1_win'] = mm_data_2['team1_win'].apply(lambda x: 1 if x==0 else 0)\n",
    "mm_data_2['diff_dist'] = mm_data_2['diff_dist']*-1\n",
    "mm_data_2['team1_log5'] = 1-mm_data_2['team1_log5']\n",
    "mm_data['seed_diff'] = mm_data['seed_diff']*-1\n",
    "mm_data_2.columns = ['game_id', 'season', 'team1_win', 'exp_win2', 'exp_win1', 'team1_score', 'team2_score', 'diff_dist', 'team1_log5',\n",
    " 'team2_id', 'team1_id','seed_diff']"
   ]
  },
  {
   "cell_type": "code",
   "execution_count": 17,
   "metadata": {
    "ExecuteTime": {
     "end_time": "2020-02-10T14:23:21.015318Z",
     "start_time": "2020-02-10T14:23:21.001391Z"
    }
   },
   "outputs": [],
   "source": [
    "mm_train = pd.concat([mm_data_2, mm_data_1])"
   ]
  },
  {
   "cell_type": "code",
   "execution_count": 18,
   "metadata": {
    "ExecuteTime": {
     "end_time": "2020-02-10T14:24:26.883251Z",
     "start_time": "2020-02-10T14:24:26.872220Z"
    }
   },
   "outputs": [],
   "source": [
    "mm_data_2019 = mm_train[mm_train['season'] == 2019].reset_index(drop=True)\n",
    "mm_data_else =  mm_train[mm_train['season'] != 2019].reset_index(drop=True)"
   ]
  },
  {
   "cell_type": "markdown",
   "metadata": {},
   "source": [
    "## Initial Check"
   ]
  },
  {
   "cell_type": "code",
   "execution_count": 19,
   "metadata": {
    "ExecuteTime": {
     "end_time": "2020-02-10T14:24:27.674738Z",
     "start_time": "2020-02-10T14:24:27.668393Z"
    }
   },
   "outputs": [
    {
     "data": {
      "text/plain": [
       "team1_win\n",
       "0    0.373595\n",
       "1    0.613930\n",
       "Name: team1_log5, dtype: float64"
      ]
     },
     "execution_count": 19,
     "metadata": {},
     "output_type": "execute_result"
    }
   ],
   "source": [
    "mm_data_else.groupby('team1_win')['team1_log5'].mean()"
   ]
  },
  {
   "cell_type": "code",
   "execution_count": 20,
   "metadata": {
    "ExecuteTime": {
     "end_time": "2020-02-10T14:24:27.938604Z",
     "start_time": "2020-02-10T14:24:27.931104Z"
    }
   },
   "outputs": [
    {
     "data": {
      "text/plain": [
       "team1_win\n",
       "0   -3.828210\n",
       "1   -3.522852\n",
       "Name: seed_diff, dtype: float64"
      ]
     },
     "execution_count": 20,
     "metadata": {},
     "output_type": "execute_result"
    }
   ],
   "source": [
    "mm_data_else.groupby('team1_win')['seed_diff'].mean()"
   ]
  },
  {
   "cell_type": "code",
   "execution_count": 21,
   "metadata": {
    "ExecuteTime": {
     "end_time": "2020-02-10T14:24:28.316450Z",
     "start_time": "2020-02-10T14:24:28.307529Z"
    }
   },
   "outputs": [
    {
     "data": {
      "text/plain": [
       "team1_win\n",
       "0    144.185589\n",
       "1   -285.362580\n",
       "Name: diff_dist, dtype: float64"
      ]
     },
     "execution_count": 21,
     "metadata": {},
     "output_type": "execute_result"
    }
   ],
   "source": [
    "mm_data_else.groupby('team1_win')['diff_dist'].mean()"
   ]
  },
  {
   "cell_type": "markdown",
   "metadata": {},
   "source": [
    "## Train Logit"
   ]
  },
  {
   "cell_type": "code",
   "execution_count": 22,
   "metadata": {
    "ExecuteTime": {
     "end_time": "2020-02-10T20:25:35.786613Z",
     "start_time": "2020-02-10T20:25:35.527188Z"
    }
   },
   "outputs": [
    {
     "data": {
      "text/plain": [
       "LogisticRegression(C=1.0, class_weight=None, dual=False, fit_intercept=True,\n",
       "                   intercept_scaling=1, l1_ratio=None, max_iter=100,\n",
       "                   multi_class='auto', n_jobs=None, penalty='l2',\n",
       "                   random_state=None, solver='lbfgs', tol=0.0001, verbose=0,\n",
       "                   warm_start=False)"
      ]
     },
     "execution_count": 22,
     "metadata": {},
     "output_type": "execute_result"
    }
   ],
   "source": [
    "scaler = StandardScaler()\n",
    "mm_train_scaled = scaler.fit_transform(mm_data_else[['team1_log5']])\n",
    "logit = LogisticRegression()\n",
    "logit.fit(mm_train_scaled, mm_data_else['team1_win'])"
   ]
  },
  {
   "cell_type": "code",
   "execution_count": 23,
   "metadata": {
    "ExecuteTime": {
     "end_time": "2020-02-10T20:25:43.303134Z",
     "start_time": "2020-02-10T20:25:43.217078Z"
    }
   },
   "outputs": [
    {
     "name": "stdout",
     "output_type": "stream",
     "text": [
      "Optimization terminated successfully.\n",
      "         Current function value: 0.669721\n",
      "         Iterations 4\n"
     ]
    },
    {
     "data": {
      "text/html": [
       "<table class=\"simpletable\">\n",
       "<caption>Logit Regression Results</caption>\n",
       "<tr>\n",
       "  <th>Dep. Variable:</th>       <td>team1_win</td>    <th>  No. Observations:  </th>  <td>  1100</td> \n",
       "</tr>\n",
       "<tr>\n",
       "  <th>Model:</th>                 <td>Logit</td>      <th>  Df Residuals:      </th>  <td>  1099</td> \n",
       "</tr>\n",
       "<tr>\n",
       "  <th>Method:</th>                 <td>MLE</td>       <th>  Df Model:          </th>  <td>     0</td> \n",
       "</tr>\n",
       "<tr>\n",
       "  <th>Date:</th>            <td>Thu, 11 Feb 2021</td> <th>  Pseudo R-squ.:     </th>  <td>0.03378</td>\n",
       "</tr>\n",
       "<tr>\n",
       "  <th>Time:</th>                <td>08:54:28</td>     <th>  Log-Likelihood:    </th> <td> -736.69</td>\n",
       "</tr>\n",
       "<tr>\n",
       "  <th>converged:</th>             <td>True</td>       <th>  LL-Null:           </th> <td> -762.45</td>\n",
       "</tr>\n",
       "<tr>\n",
       "  <th>Covariance Type:</th>     <td>nonrobust</td>    <th>  LLR p-value:       </th>  <td>   nan</td> \n",
       "</tr>\n",
       "</table>\n",
       "<table class=\"simpletable\">\n",
       "<tr>\n",
       "       <td></td>         <th>coef</th>     <th>std err</th>      <th>z</th>      <th>P>|z|</th>  <th>[0.025</th>    <th>0.975]</th>  \n",
       "</tr>\n",
       "<tr>\n",
       "  <th>team1_log5</th> <td>    0.8082</td> <td>    0.115</td> <td>    7.040</td> <td> 0.000</td> <td>    0.583</td> <td>    1.033</td>\n",
       "</tr>\n",
       "</table>"
      ],
      "text/plain": [
       "<class 'statsmodels.iolib.summary.Summary'>\n",
       "\"\"\"\n",
       "                           Logit Regression Results                           \n",
       "==============================================================================\n",
       "Dep. Variable:              team1_win   No. Observations:                 1100\n",
       "Model:                          Logit   Df Residuals:                     1099\n",
       "Method:                           MLE   Df Model:                            0\n",
       "Date:                Thu, 11 Feb 2021   Pseudo R-squ.:                 0.03378\n",
       "Time:                        08:54:28   Log-Likelihood:                -736.69\n",
       "converged:                       True   LL-Null:                       -762.45\n",
       "Covariance Type:            nonrobust   LLR p-value:                       nan\n",
       "==============================================================================\n",
       "                 coef    std err          z      P>|z|      [0.025      0.975]\n",
       "------------------------------------------------------------------------------\n",
       "team1_log5     0.8082      0.115      7.040      0.000       0.583       1.033\n",
       "==============================================================================\n",
       "\"\"\""
      ]
     },
     "execution_count": 23,
     "metadata": {},
     "output_type": "execute_result"
    }
   ],
   "source": [
    "smlogit = sm.Logit(mm_data_else['team1_win'], mm_data_else['team1_log5']).fit()\n",
    "smlogit.summary()"
   ]
  },
  {
   "cell_type": "code",
   "execution_count": 24,
   "metadata": {
    "ExecuteTime": {
     "end_time": "2020-02-10T20:25:53.991380Z",
     "start_time": "2020-02-10T20:25:53.971576Z"
    }
   },
   "outputs": [],
   "source": [
    "mm_data_2019['prob'] = logit.predict_proba(scaler.fit_transform(mm_data_2019[['team1_log5']]))[:,1]\n",
    "mm_data_2019['prediction'] = logit.predict(scaler.fit_transform(mm_data_2019[['team1_log5']]))"
   ]
  },
  {
   "cell_type": "code",
   "execution_count": 25,
   "metadata": {
    "ExecuteTime": {
     "end_time": "2020-02-10T20:26:07.253272Z",
     "start_time": "2020-02-10T20:26:07.205581Z"
    }
   },
   "outputs": [
    {
     "data": {
      "text/html": [
       "<div>\n",
       "<style scoped>\n",
       "    .dataframe tbody tr th:only-of-type {\n",
       "        vertical-align: middle;\n",
       "    }\n",
       "\n",
       "    .dataframe tbody tr th {\n",
       "        vertical-align: top;\n",
       "    }\n",
       "\n",
       "    .dataframe thead th {\n",
       "        text-align: right;\n",
       "    }\n",
       "</style>\n",
       "<table border=\"1\" class=\"dataframe\">\n",
       "  <thead>\n",
       "    <tr style=\"text-align: right;\">\n",
       "      <th></th>\n",
       "      <th>team1_log5</th>\n",
       "      <th>team1_win</th>\n",
       "      <th>prob</th>\n",
       "      <th>prediction</th>\n",
       "    </tr>\n",
       "  </thead>\n",
       "  <tbody>\n",
       "    <tr>\n",
       "      <th>0</th>\n",
       "      <td>0.414078</td>\n",
       "      <td>0</td>\n",
       "      <td>0.361267</td>\n",
       "      <td>0</td>\n",
       "    </tr>\n",
       "    <tr>\n",
       "      <th>1</th>\n",
       "      <td>0.316852</td>\n",
       "      <td>0</td>\n",
       "      <td>0.261896</td>\n",
       "      <td>0</td>\n",
       "    </tr>\n",
       "    <tr>\n",
       "      <th>2</th>\n",
       "      <td>0.198387</td>\n",
       "      <td>0</td>\n",
       "      <td>0.167387</td>\n",
       "      <td>0</td>\n",
       "    </tr>\n",
       "    <tr>\n",
       "      <th>3</th>\n",
       "      <td>0.543720</td>\n",
       "      <td>0</td>\n",
       "      <td>0.512961</td>\n",
       "      <td>1</td>\n",
       "    </tr>\n",
       "    <tr>\n",
       "      <th>4</th>\n",
       "      <td>0.470417</td>\n",
       "      <td>0</td>\n",
       "      <td>0.425636</td>\n",
       "      <td>0</td>\n",
       "    </tr>\n",
       "  </tbody>\n",
       "</table>\n",
       "</div>"
      ],
      "text/plain": [
       "   team1_log5  team1_win      prob  prediction\n",
       "0    0.414078          0  0.361267           0\n",
       "1    0.316852          0  0.261896           0\n",
       "2    0.198387          0  0.167387           0\n",
       "3    0.543720          0  0.512961           1\n",
       "4    0.470417          0  0.425636           0"
      ]
     },
     "execution_count": 25,
     "metadata": {},
     "output_type": "execute_result"
    }
   ],
   "source": [
    "mm_data_2019[['team1_log5','team1_win','prob','prediction']].head()"
   ]
  },
  {
   "cell_type": "code",
   "execution_count": 26,
   "metadata": {
    "ExecuteTime": {
     "end_time": "2020-02-10T20:26:23.115305Z",
     "start_time": "2020-02-10T20:26:23.100257Z"
    }
   },
   "outputs": [
    {
     "data": {
      "text/plain": [
       "team1_win\n",
       "0    0.321352\n",
       "1    0.640086\n",
       "Name: prob, dtype: float64"
      ]
     },
     "execution_count": 26,
     "metadata": {},
     "output_type": "execute_result"
    }
   ],
   "source": [
    "mm_data_2019.groupby('team1_win')['prob'].mean()"
   ]
  },
  {
   "cell_type": "code",
   "execution_count": 27,
   "metadata": {
    "ExecuteTime": {
     "end_time": "2020-02-10T20:26:24.709810Z",
     "start_time": "2020-02-10T20:26:24.377062Z"
    }
   },
   "outputs": [
    {
     "data": {
      "text/plain": [
       "<matplotlib.axes._subplots.AxesSubplot at 0x1a27588dd0>"
      ]
     },
     "execution_count": 27,
     "metadata": {},
     "output_type": "execute_result"
    },
    {
     "data": {
      "image/png": "[encoded data removed]",
      "text/plain": [
       "<Figure size 432x288 with 1 Axes>"
      ]
     },
     "metadata": {},
     "output_type": "display_data"
    }
   ],
   "source": [
    "mm_data_2019.plot(kind='scatter', x='prob',y='team1_log5')"
   ]
  },
  {
   "cell_type": "code",
   "execution_count": 28,
   "metadata": {
    "ExecuteTime": {
     "end_time": "2020-02-10T20:26:27.727229Z",
     "start_time": "2020-02-10T20:26:27.694587Z"
    }
   },
   "outputs": [
    {
     "data": {
      "text/plain": [
       "array([[22,  8],\n",
       "       [12, 25]])"
      ]
     },
     "execution_count": 28,
     "metadata": {},
     "output_type": "execute_result"
    }
   ],
   "source": [
    "confusion_matrix(mm_data_2019['team1_win'], mm_data_2019['prediction'])"
   ]
  },
  {
   "cell_type": "code",
   "execution_count": 29,
   "metadata": {
    "ExecuteTime": {
     "end_time": "2020-02-10T20:26:28.653279Z",
     "start_time": "2020-02-10T20:26:28.646947Z"
    }
   },
   "outputs": [
    {
     "data": {
      "text/plain": [
       "0.7014925373134329"
      ]
     },
     "execution_count": 29,
     "metadata": {},
     "output_type": "execute_result"
    }
   ],
   "source": [
    "accuracy_score(mm_data_2019['team1_win'], mm_data_2019['prediction'],)"
   ]
  },
  {
   "cell_type": "code",
   "execution_count": 30,
   "metadata": {
    "ExecuteTime": {
     "end_time": "2020-02-10T20:26:28.967461Z",
     "start_time": "2020-02-10T20:26:28.952342Z"
    }
   },
   "outputs": [
    {
     "data": {
      "text/plain": [
       "0.7575757575757576"
      ]
     },
     "execution_count": 30,
     "metadata": {},
     "output_type": "execute_result"
    }
   ],
   "source": [
    "precision_score(mm_data_2019['team1_win'], mm_data_2019['prediction'])"
   ]
  },
  {
   "cell_type": "code",
   "execution_count": 31,
   "metadata": {
    "ExecuteTime": {
     "end_time": "2020-02-10T20:26:29.345727Z",
     "start_time": "2020-02-10T20:26:29.336086Z"
    }
   },
   "outputs": [
    {
     "data": {
      "text/plain": [
       "0.6756756756756757"
      ]
     },
     "execution_count": 31,
     "metadata": {},
     "output_type": "execute_result"
    }
   ],
   "source": [
    "recall_score(mm_data_2019['team1_win'], mm_data_2019['prediction'])"
   ]
  },
  {
   "cell_type": "code",
   "execution_count": 32,
   "metadata": {
    "ExecuteTime": {
     "end_time": "2020-02-10T20:26:30.803835Z",
     "start_time": "2020-02-10T20:26:30.789776Z"
    }
   },
   "outputs": [
    {
     "data": {
      "text/plain": [
       "0.7142857142857142"
      ]
     },
     "execution_count": 32,
     "metadata": {},
     "output_type": "execute_result"
    }
   ],
   "source": [
    "f1_score(mm_data_2019['team1_win'], mm_data_2019['prediction'])"
   ]
  },
  {
   "cell_type": "code",
   "execution_count": 33,
   "metadata": {
    "ExecuteTime": {
     "end_time": "2020-02-10T20:26:31.045631Z",
     "start_time": "2020-02-10T20:26:31.036056Z"
    }
   },
   "outputs": [
    {
     "data": {
      "text/plain": [
       "0.487056730563625"
      ]
     },
     "execution_count": 33,
     "metadata": {},
     "output_type": "execute_result"
    }
   ],
   "source": [
    "log_loss(mm_data_2019['team1_win'].values, mm_data_2019['prob'].values)"
   ]
  },
  {
   "cell_type": "code",
   "execution_count": 34,
   "metadata": {
    "ExecuteTime": {
     "end_time": "2020-02-10T20:26:40.972339Z",
     "start_time": "2020-02-10T20:26:40.957831Z"
    }
   },
   "outputs": [],
   "source": [
    "def plot_roc(fpr, tpr, roc_auc):\n",
    "    \"\"\"Plots the ROC curve for the win probability model along with\n",
    "    the AUC.\n",
    "    \"\"\"\n",
    "    fig, ax = plt.subplots()\n",
    "    ax.set(title='Receiver Operating Characteristic',\n",
    "           xlim=[0, 1], ylim=[0, 1], xlabel='False Positive Rate',\n",
    "           ylabel='True Positive Rate')\n",
    "    ax.plot(fpr, tpr, 'b', label='AUC = %0.2f' % roc_auc)\n",
    "    ax.plot([0, 1], [0, 1], 'k--')\n",
    "    ax.legend(loc='lower right')"
   ]
  },
  {
   "cell_type": "code",
   "execution_count": 35,
   "metadata": {
    "ExecuteTime": {
     "end_time": "2020-02-10T20:26:42.149641Z",
     "start_time": "2020-02-10T20:26:41.267417Z"
    }
   },
   "outputs": [
    {
     "data": {
      "image/png": "[encoded data removed]",
      "text/plain": [
       "<Figure size 432x288 with 1 Axes>"
      ]
     },
     "metadata": {},
     "output_type": "display_data"
    }
   ],
   "source": [
    "fpr, tpr, thresholds = roc_curve(mm_data_2019['team1_win'].values, mm_data_2019['prob'].values)\n",
    "roc_auc = auc(fpr, tpr)\n",
    "plot_roc(fpr, tpr, roc_auc)"
   ]
  },
  {
   "cell_type": "code",
   "execution_count": 36,
   "metadata": {
    "ExecuteTime": {
     "end_time": "2020-02-10T20:26:43.638713Z",
     "start_time": "2020-02-10T20:26:43.622983Z"
    }
   },
   "outputs": [
    {
     "data": {
      "text/plain": [
       "0.8522522522522522"
      ]
     },
     "execution_count": 36,
     "metadata": {},
     "output_type": "execute_result"
    }
   ],
   "source": [
    "roc_auc_score(mm_data_2019['team1_win'].values, mm_data_2019['prob'].values)"
   ]
  },
  {
   "cell_type": "markdown",
   "metadata": {},
   "source": [
    "## Add Seed Difference & Distance"
   ]
  },
  {
   "cell_type": "code",
   "execution_count": 37,
   "metadata": {
    "ExecuteTime": {
     "end_time": "2020-02-10T20:26:45.174514Z",
     "start_time": "2020-02-10T20:26:45.149185Z"
    }
   },
   "outputs": [
    {
     "data": {
      "text/plain": [
       "LogisticRegression(C=1.0, class_weight=None, dual=False, fit_intercept=True,\n",
       "                   intercept_scaling=1, l1_ratio=None, max_iter=100,\n",
       "                   multi_class='auto', n_jobs=None, penalty='l2',\n",
       "                   random_state=None, solver='lbfgs', tol=0.0001, verbose=0,\n",
       "                   warm_start=False)"
      ]
     },
     "execution_count": 37,
     "metadata": {},
     "output_type": "execute_result"
    }
   ],
   "source": [
    "scaler = StandardScaler()\n",
    "mm_train_scaled = scaler.fit_transform(mm_data_else[['team1_log5','diff_dist','seed_diff']])\n",
    "logit = LogisticRegression()\n",
    "logit.fit(mm_train_scaled, mm_data_else['team1_win'])"
   ]
  },
  {
   "cell_type": "code",
   "execution_count": 38,
   "metadata": {
    "ExecuteTime": {
     "end_time": "2020-02-10T20:26:49.219248Z",
     "start_time": "2020-02-10T20:26:49.173866Z"
    }
   },
   "outputs": [
    {
     "name": "stdout",
     "output_type": "stream",
     "text": [
      "Optimization terminated successfully.\n",
      "         Current function value: 0.651548\n",
      "         Iterations 5\n"
     ]
    },
    {
     "data": {
      "text/html": [
       "<table class=\"simpletable\">\n",
       "<caption>Logit Regression Results</caption>\n",
       "<tr>\n",
       "  <th>Dep. Variable:</th>       <td>team1_win</td>    <th>  No. Observations:  </th>  <td>  1100</td>  \n",
       "</tr>\n",
       "<tr>\n",
       "  <th>Model:</th>                 <td>Logit</td>      <th>  Df Residuals:      </th>  <td>  1097</td>  \n",
       "</tr>\n",
       "<tr>\n",
       "  <th>Method:</th>                 <td>MLE</td>       <th>  Df Model:          </th>  <td>     2</td>  \n",
       "</tr>\n",
       "<tr>\n",
       "  <th>Date:</th>            <td>Thu, 11 Feb 2021</td> <th>  Pseudo R-squ.:     </th>  <td>0.06000</td> \n",
       "</tr>\n",
       "<tr>\n",
       "  <th>Time:</th>                <td>08:54:28</td>     <th>  Log-Likelihood:    </th> <td> -716.70</td> \n",
       "</tr>\n",
       "<tr>\n",
       "  <th>converged:</th>             <td>True</td>       <th>  LL-Null:           </th> <td> -762.45</td> \n",
       "</tr>\n",
       "<tr>\n",
       "  <th>Covariance Type:</th>     <td>nonrobust</td>    <th>  LLR p-value:       </th> <td>1.361e-20</td>\n",
       "</tr>\n",
       "</table>\n",
       "<table class=\"simpletable\">\n",
       "<tr>\n",
       "       <td></td>         <th>coef</th>     <th>std err</th>      <th>z</th>      <th>P>|z|</th>  <th>[0.025</th>    <th>0.975]</th>  \n",
       "</tr>\n",
       "<tr>\n",
       "  <th>team1_log5</th> <td>    0.9565</td> <td>    0.132</td> <td>    7.265</td> <td> 0.000</td> <td>    0.698</td> <td>    1.215</td>\n",
       "</tr>\n",
       "<tr>\n",
       "  <th>diff_dist</th>  <td>   -0.0002</td> <td> 5.44e-05</td> <td>   -4.566</td> <td> 0.000</td> <td>   -0.000</td> <td>   -0.000</td>\n",
       "</tr>\n",
       "<tr>\n",
       "  <th>seed_diff</th>  <td>    0.0375</td> <td>    0.009</td> <td>    3.971</td> <td> 0.000</td> <td>    0.019</td> <td>    0.056</td>\n",
       "</tr>\n",
       "</table>"
      ],
      "text/plain": [
       "<class 'statsmodels.iolib.summary.Summary'>\n",
       "\"\"\"\n",
       "                           Logit Regression Results                           \n",
       "==============================================================================\n",
       "Dep. Variable:              team1_win   No. Observations:                 1100\n",
       "Model:                          Logit   Df Residuals:                     1097\n",
       "Method:                           MLE   Df Model:                            2\n",
       "Date:                Thu, 11 Feb 2021   Pseudo R-squ.:                 0.06000\n",
       "Time:                        08:54:28   Log-Likelihood:                -716.70\n",
       "converged:                       True   LL-Null:                       -762.45\n",
       "Covariance Type:            nonrobust   LLR p-value:                 1.361e-20\n",
       "==============================================================================\n",
       "                 coef    std err          z      P>|z|      [0.025      0.975]\n",
       "------------------------------------------------------------------------------\n",
       "team1_log5     0.9565      0.132      7.265      0.000       0.698       1.215\n",
       "diff_dist     -0.0002   5.44e-05     -4.566      0.000      -0.000      -0.000\n",
       "seed_diff      0.0375      0.009      3.971      0.000       0.019       0.056\n",
       "==============================================================================\n",
       "\"\"\""
      ]
     },
     "execution_count": 38,
     "metadata": {},
     "output_type": "execute_result"
    }
   ],
   "source": [
    "smlogit = sm.Logit(mm_data_else['team1_win'], mm_data_else[['team1_log5','diff_dist','seed_diff']]).fit()\n",
    "smlogit.summary()"
   ]
  },
  {
   "cell_type": "code",
   "execution_count": 39,
   "metadata": {
    "ExecuteTime": {
     "end_time": "2020-02-10T20:26:52.025921Z",
     "start_time": "2020-02-10T20:26:52.009649Z"
    }
   },
   "outputs": [],
   "source": [
    "mm_data_2019['prob'] = logit.predict_proba(scaler.fit_transform(mm_data_2019[['team1_log5','diff_dist','seed_diff']]))[:,1]\n",
    "mm_data_2019['prediction'] = logit.predict(scaler.fit_transform(mm_data_2019[['team1_log5','diff_dist','seed_diff']]))"
   ]
  },
  {
   "cell_type": "code",
   "execution_count": 40,
   "metadata": {
    "ExecuteTime": {
     "end_time": "2020-02-10T20:26:53.841100Z",
     "start_time": "2020-02-10T20:26:53.833543Z"
    }
   },
   "outputs": [
    {
     "data": {
      "text/plain": [
       "0.7313432835820896"
      ]
     },
     "execution_count": 40,
     "metadata": {},
     "output_type": "execute_result"
    }
   ],
   "source": [
    "accuracy_score(mm_data_2019['team1_win'], mm_data_2019['prediction'],)"
   ]
  },
  {
   "cell_type": "code",
   "execution_count": 41,
   "metadata": {
    "ExecuteTime": {
     "end_time": "2020-02-10T20:26:54.078877Z",
     "start_time": "2020-02-10T20:26:54.069268Z"
    }
   },
   "outputs": [
    {
     "data": {
      "text/plain": [
       "0.7878787878787878"
      ]
     },
     "execution_count": 41,
     "metadata": {},
     "output_type": "execute_result"
    }
   ],
   "source": [
    "precision_score(mm_data_2019['team1_win'], mm_data_2019['prediction'])"
   ]
  },
  {
   "cell_type": "code",
   "execution_count": 42,
   "metadata": {
    "ExecuteTime": {
     "end_time": "2020-02-10T20:26:54.737288Z",
     "start_time": "2020-02-10T20:26:54.732614Z"
    }
   },
   "outputs": [
    {
     "data": {
      "text/plain": [
       "0.7027027027027027"
      ]
     },
     "execution_count": 42,
     "metadata": {},
     "output_type": "execute_result"
    }
   ],
   "source": [
    "recall_score(mm_data_2019['team1_win'], mm_data_2019['prediction'])"
   ]
  },
  {
   "cell_type": "code",
   "execution_count": 43,
   "metadata": {
    "ExecuteTime": {
     "end_time": "2020-02-10T20:26:54.980079Z",
     "start_time": "2020-02-10T20:26:54.972485Z"
    }
   },
   "outputs": [
    {
     "data": {
      "text/plain": [
       "0.7428571428571429"
      ]
     },
     "execution_count": 43,
     "metadata": {},
     "output_type": "execute_result"
    }
   ],
   "source": [
    "f1_score(mm_data_2019['team1_win'], mm_data_2019['prediction'])"
   ]
  },
  {
   "cell_type": "code",
   "execution_count": 44,
   "metadata": {
    "ExecuteTime": {
     "end_time": "2020-02-10T20:26:55.401886Z",
     "start_time": "2020-02-10T20:26:55.389937Z"
    }
   },
   "outputs": [
    {
     "data": {
      "text/plain": [
       "0.479138581704498"
      ]
     },
     "execution_count": 44,
     "metadata": {},
     "output_type": "execute_result"
    }
   ],
   "source": [
    "log_loss(mm_data_2019['team1_win'].values, mm_data_2019['prob'].values)"
   ]
  },
  {
   "cell_type": "code",
   "execution_count": 45,
   "metadata": {
    "ExecuteTime": {
     "end_time": "2020-02-10T20:27:06.558406Z",
     "start_time": "2020-02-10T20:27:06.360965Z"
    }
   },
   "outputs": [
    {
     "data": {
      "image/png": "[encoded data removed]",
      "text/plain": [
       "<Figure size 432x288 with 1 Axes>"
      ]
     },
     "metadata": {},
     "output_type": "display_data"
    }
   ],
   "source": [
    "fpr, tpr, thresholds = roc_curve(mm_data_2019['team1_win'].values, mm_data_2019['prob'].values)\n",
    "roc_auc = auc(fpr, tpr)\n",
    "plot_roc(fpr, tpr, roc_auc)"
   ]
  },
  {
   "cell_type": "code",
   "execution_count": 46,
   "metadata": {
    "ExecuteTime": {
     "end_time": "2020-02-10T14:24:41.266595Z",
     "start_time": "2020-02-10T14:24:41.259398Z"
    }
   },
   "outputs": [
    {
     "data": {
      "text/plain": [
       "0.8603603603603603"
      ]
     },
     "execution_count": 46,
     "metadata": {},
     "output_type": "execute_result"
    }
   ],
   "source": [
    "roc_auc_score(mm_data_2019['team1_win'].values, mm_data_2019['prob'].values)"
   ]
  },
  {
   "cell_type": "markdown",
   "metadata": {},
   "source": [
    "## Create Example Submission"
   ]
  },
  {
   "cell_type": "code",
   "execution_count": 47,
   "metadata": {},
   "outputs": [
    {
     "data": {
      "text/html": [
       "<div>\n",
       "<style scoped>\n",
       "    .dataframe tbody tr th:only-of-type {\n",
       "        vertical-align: middle;\n",
       "    }\n",
       "\n",
       "    .dataframe tbody tr th {\n",
       "        vertical-align: top;\n",
       "    }\n",
       "\n",
       "    .dataframe thead th {\n",
       "        text-align: right;\n",
       "    }\n",
       "</style>\n",
       "<table border=\"1\" class=\"dataframe\">\n",
       "  <thead>\n",
       "    <tr style=\"text-align: right;\">\n",
       "      <th></th>\n",
       "      <th>game_id</th>\n",
       "      <th>prob</th>\n",
       "    </tr>\n",
       "  </thead>\n",
       "  <tbody>\n",
       "    <tr>\n",
       "      <th>0</th>\n",
       "      <td>2019-1125.0-1396.0</td>\n",
       "      <td>0.362826</td>\n",
       "    </tr>\n",
       "    <tr>\n",
       "      <th>1</th>\n",
       "      <td>2019-1459.0-1371.0</td>\n",
       "      <td>0.255110</td>\n",
       "    </tr>\n",
       "    <tr>\n",
       "      <th>2</th>\n",
       "      <td>2019-1242.0-1318.0</td>\n",
       "      <td>0.149305</td>\n",
       "    </tr>\n",
       "    <tr>\n",
       "      <th>3</th>\n",
       "      <td>2019-1124.0-1393.0</td>\n",
       "      <td>0.485186</td>\n",
       "    </tr>\n",
       "    <tr>\n",
       "      <th>4</th>\n",
       "      <td>2019-1328.0-1279.0</td>\n",
       "      <td>0.432957</td>\n",
       "    </tr>\n",
       "  </tbody>\n",
       "</table>\n",
       "</div>"
      ],
      "text/plain": [
       "              game_id      prob\n",
       "0  2019-1125.0-1396.0  0.362826\n",
       "1  2019-1459.0-1371.0  0.255110\n",
       "2  2019-1242.0-1318.0  0.149305\n",
       "3  2019-1124.0-1393.0  0.485186\n",
       "4  2019-1328.0-1279.0  0.432957"
      ]
     },
     "execution_count": 47,
     "metadata": {},
     "output_type": "execute_result"
    }
   ],
   "source": [
    "mm_data_2019[['game_id','prob']].head()"
   ]
  },
  {
   "cell_type": "code",
   "execution_count": 48,
   "metadata": {},
   "outputs": [],
   "source": [
    "mm_data_2019['prob'] = .5"
   ]
  },
  {
   "cell_type": "code",
   "execution_count": 49,
   "metadata": {},
   "outputs": [],
   "source": [
    "mm_data_2019[['game_id','prob']].to_csv(\"example_submission.csv\", index=False)"
   ]
  },
  {
   "cell_type": "code",
   "execution_count": null,
   "metadata": {},
   "outputs": [],
   "source": []
  }
 ],
 "metadata": {
  "kernelspec": {
   "display_name": "Python 3",
   "language": "python",
   "name": "python3"
  },
  "language_info": {
   "codemirror_mode": {
    "name": "ipython",
    "version": 3
   },
   "file_extension": ".py",
   "mimetype": "text/x-python",
   "name": "python",
   "nbconvert_exporter": "python",
   "pygments_lexer": "ipython3",
   "version": "3.7.6"
  }
 },
 "nbformat": 4,
 "nbformat_minor": 1
}
