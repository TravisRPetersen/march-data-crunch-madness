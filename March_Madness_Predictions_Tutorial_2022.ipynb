{
 "cells": [
  {
   "cell_type": "markdown",
   "metadata": {},
   "source": [
    "## March Madness Logistic Regression"
   ]
  },
  {
   "cell_type": "code",
   "execution_count": 1,
   "metadata": {
    "ExecuteTime": {
     "end_time": "2020-02-10T14:22:04.902076Z",
     "start_time": "2020-02-10T14:22:04.031117Z"
    }
   },
   "outputs": [],
   "source": [
    "import matplotlib.pyplot as plt\n",
    "plt.style.use('ggplot')\n",
    "\n",
    "from math import sin, cos, sqrt, atan2, radians\n",
    "import numpy as np\n",
    "import pandas as pd\n",
    "import random\n",
    "from sklearn.model_selection import train_test_split\n",
    "from sklearn.linear_model import LogisticRegression\n",
    "from sklearn.metrics import (auc, classification_report, roc_auc_score, accuracy_score,\n",
    "                             f1_score, log_loss, roc_curve, confusion_matrix, precision_score, recall_score)\n",
    "import statsmodels.formula.api as smf\n",
    "\n",
    "np.random.seed(0)"
   ]
  },
  {
   "cell_type": "code",
   "execution_count": 2,
   "metadata": {
    "ExecuteTime": {
     "end_time": "2020-02-10T14:22:05.378883Z",
     "start_time": "2020-02-10T14:22:05.354596Z"
    }
   },
   "outputs": [],
   "source": [
    "def distance(lat1, lon1, lat2, lon2):\n",
    "\n",
    "    # approximate radius of earth in km\n",
    "    R = 6373.0\n",
    "\n",
    "    lat1 = radians(lat1)\n",
    "    lon1 = radians(lon1)\n",
    "    lat2 = radians(lat2)\n",
    "    lon2 = radians(lon2)\n",
    "\n",
    "    dlon = lon2 - lon1\n",
    "    dlat = lat2 - lat1\n",
    "\n",
    "    a = sin(dlat / 2)**2 + cos(lat1) * cos(lat2) * sin(dlon / 2)**2\n",
    "    c = 2 * atan2(sqrt(a), sqrt(1 - a))\n",
    "\n",
    "    distance = R * c\n",
    "    \n",
    "    return distance"
   ]
  },
  {
   "cell_type": "code",
   "execution_count": 3,
   "metadata": {
    "ExecuteTime": {
     "end_time": "2020-02-10T20:38:45.598989Z",
     "start_time": "2020-02-10T20:38:45.515068Z"
    }
   },
   "outputs": [],
   "source": [
    "mm_data = pd.read_csv('NCAA_Tourney_2002_2021.csv').query(\"season<2021\").reset_index(drop=True)"
   ]
  },
  {
   "cell_type": "code",
   "execution_count": 4,
   "metadata": {},
   "outputs": [],
   "source": [
    "#list(mm_data.columns)"
   ]
  },
  {
   "cell_type": "code",
   "execution_count": 5,
   "metadata": {
    "ExecuteTime": {
     "end_time": "2020-02-10T14:22:06.166676Z",
     "start_time": "2020-02-10T14:22:06.013988Z"
    }
   },
   "outputs": [],
   "source": [
    "mm_data['dist1'] = mm_data.apply(lambda row: distance(row['host_lat'], row['host_long'], row['team1_lat'], row['team1_long']), axis=1)\n",
    "mm_data['dist2'] = mm_data.apply(lambda row: distance(row['host_lat'], row['host_long'], row['team2_lat'], row['team2_long']), axis=1)"
   ]
  },
  {
   "cell_type": "code",
   "execution_count": 6,
   "metadata": {
    "ExecuteTime": {
     "end_time": "2020-02-10T14:22:06.432705Z",
     "start_time": "2020-02-10T14:22:06.369944Z"
    }
   },
   "outputs": [],
   "source": [
    "mm_data['diff_dist'] = mm_data['dist1'] - mm_data['dist2']"
   ]
  },
  {
   "cell_type": "code",
   "execution_count": 7,
   "metadata": {},
   "outputs": [
    {
     "data": {
      "text/plain": [
       "['team1_teamname', 'team2_teamname']"
      ]
     },
     "execution_count": 7,
     "metadata": {},
     "output_type": "execute_result"
    }
   ],
   "source": [
    "[x for x in mm_data.columns if 'name' in x]"
   ]
  },
  {
   "cell_type": "code",
   "execution_count": 8,
   "metadata": {},
   "outputs": [
    {
     "data": {
      "text/html": [
       "<div>\n",
       "<style scoped>\n",
       "    .dataframe tbody tr th:only-of-type {\n",
       "        vertical-align: middle;\n",
       "    }\n",
       "\n",
       "    .dataframe tbody tr th {\n",
       "        vertical-align: top;\n",
       "    }\n",
       "\n",
       "    .dataframe thead th {\n",
       "        text-align: right;\n",
       "    }\n",
       "</style>\n",
       "<table border=\"1\" class=\"dataframe\">\n",
       "  <thead>\n",
       "    <tr style=\"text-align: right;\">\n",
       "      <th></th>\n",
       "      <th>team1_teamname</th>\n",
       "      <th>team2_teamname</th>\n",
       "      <th>host</th>\n",
       "    </tr>\n",
       "  </thead>\n",
       "  <tbody>\n",
       "    <tr>\n",
       "      <th>99</th>\n",
       "      <td>Xavier</td>\n",
       "      <td>Hawaii</td>\n",
       "      <td>dallas</td>\n",
       "    </tr>\n",
       "    <tr>\n",
       "      <th>555</th>\n",
       "      <td>Villanova</td>\n",
       "      <td>UCLA</td>\n",
       "      <td>philadelphia</td>\n",
       "    </tr>\n",
       "    <tr>\n",
       "      <th>112</th>\n",
       "      <td>Pittsburgh</td>\n",
       "      <td>California</td>\n",
       "      <td>pittsburgh</td>\n",
       "    </tr>\n",
       "    <tr>\n",
       "      <th>1094</th>\n",
       "      <td>Oregon</td>\n",
       "      <td>Rhode Island</td>\n",
       "      <td>sacramento</td>\n",
       "    </tr>\n",
       "    <tr>\n",
       "      <th>651</th>\n",
       "      <td>Florida</td>\n",
       "      <td>Santa Barbara</td>\n",
       "      <td>tampa</td>\n",
       "    </tr>\n",
       "  </tbody>\n",
       "</table>\n",
       "</div>"
      ],
      "text/plain": [
       "     team1_teamname team2_teamname          host\n",
       "99           Xavier         Hawaii        dallas\n",
       "555       Villanova           UCLA  philadelphia\n",
       "112      Pittsburgh     California    pittsburgh\n",
       "1094         Oregon   Rhode Island    sacramento\n",
       "651         Florida  Santa Barbara         tampa"
      ]
     },
     "execution_count": 8,
     "metadata": {},
     "output_type": "execute_result"
    }
   ],
   "source": [
    "mm_data.sort_values('diff_dist')[['team1_teamname','team2_teamname','host']].head()"
   ]
  },
  {
   "cell_type": "markdown",
   "metadata": {},
   "source": [
    "## Pythag College Basketball\n",
    "E(W%) = points scored^11.5 / (points scored^11.5+points allowed^11.5)"
   ]
  },
  {
   "cell_type": "code",
   "execution_count": 9,
   "metadata": {
    "ExecuteTime": {
     "end_time": "2020-02-10T14:22:06.899914Z",
     "start_time": "2020-02-10T14:22:06.882549Z"
    }
   },
   "outputs": [],
   "source": [
    "mm_data['exp_win1'] = (mm_data['team1_adjoe']**11.5)/ ((mm_data['team1_adjde']**11.5)+(mm_data['team1_adjoe']**11.5))\n",
    "mm_data['exp_win2'] = (mm_data['team2_adjoe']**11.5)/ ((mm_data['team2_adjde']**11.5)+(mm_data['team2_adjoe']**11.5))"
   ]
  },
  {
   "cell_type": "markdown",
   "metadata": {},
   "source": [
    "## Log Odds\n",
    "P(W) = (A - A * B) / (A + B - 2*A*B)"
   ]
  },
  {
   "cell_type": "code",
   "execution_count": 10,
   "metadata": {
    "ExecuteTime": {
     "end_time": "2020-02-10T14:22:07.337477Z",
     "start_time": "2020-02-10T14:22:07.327841Z"
    }
   },
   "outputs": [],
   "source": [
    "mm_data['team1_log5'] = (mm_data['exp_win1'] - (mm_data['exp_win1']*mm_data['exp_win2']))/ (mm_data['exp_win1']+mm_data['exp_win2']-(2*mm_data['exp_win1']*mm_data['exp_win2']))"
   ]
  },
  {
   "cell_type": "code",
   "execution_count": 11,
   "metadata": {
    "ExecuteTime": {
     "end_time": "2020-02-10T14:22:07.564156Z",
     "start_time": "2020-02-10T14:22:07.538354Z"
    }
   },
   "outputs": [
    {
     "data": {
      "text/html": [
       "<div>\n",
       "<style scoped>\n",
       "    .dataframe tbody tr th:only-of-type {\n",
       "        vertical-align: middle;\n",
       "    }\n",
       "\n",
       "    .dataframe tbody tr th {\n",
       "        vertical-align: top;\n",
       "    }\n",
       "\n",
       "    .dataframe thead th {\n",
       "        text-align: right;\n",
       "    }\n",
       "</style>\n",
       "<table border=\"1\" class=\"dataframe\">\n",
       "  <thead>\n",
       "    <tr style=\"text-align: right;\">\n",
       "      <th></th>\n",
       "      <th>team1_adjoe</th>\n",
       "      <th>team1_teamname</th>\n",
       "      <th>season</th>\n",
       "      <th>team2_teamname</th>\n",
       "      <th>team1_adjde</th>\n",
       "      <th>exp_win1</th>\n",
       "      <th>exp_win2</th>\n",
       "      <th>team1_log5</th>\n",
       "    </tr>\n",
       "  </thead>\n",
       "  <tbody>\n",
       "    <tr>\n",
       "      <th>921</th>\n",
       "      <td>119.7250</td>\n",
       "      <td>Kentucky</td>\n",
       "      <td>2015</td>\n",
       "      <td>Hampton</td>\n",
       "      <td>85.8155</td>\n",
       "      <td>0.978741</td>\n",
       "      <td>0.312700</td>\n",
       "      <td>0.990214</td>\n",
       "    </tr>\n",
       "    <tr>\n",
       "      <th>462</th>\n",
       "      <td>116.1109</td>\n",
       "      <td>UCLA</td>\n",
       "      <td>2008</td>\n",
       "      <td>MS Valley St</td>\n",
       "      <td>89.3351</td>\n",
       "      <td>0.953236</td>\n",
       "      <td>0.197019</td>\n",
       "      <td>0.988106</td>\n",
       "    </tr>\n",
       "    <tr>\n",
       "      <th>199</th>\n",
       "      <td>117.6452</td>\n",
       "      <td>Duke</td>\n",
       "      <td>2004</td>\n",
       "      <td>Alabama St</td>\n",
       "      <td>89.6445</td>\n",
       "      <td>0.957950</td>\n",
       "      <td>0.246514</td>\n",
       "      <td>0.985842</td>\n",
       "    </tr>\n",
       "    <tr>\n",
       "      <th>70</th>\n",
       "      <td>118.5999</td>\n",
       "      <td>Duke</td>\n",
       "      <td>2002</td>\n",
       "      <td>Winthrop</td>\n",
       "      <td>87.7504</td>\n",
       "      <td>0.969660</td>\n",
       "      <td>0.367453</td>\n",
       "      <td>0.982148</td>\n",
       "    </tr>\n",
       "    <tr>\n",
       "      <th>25</th>\n",
       "      <td>123.6930</td>\n",
       "      <td>Virginia</td>\n",
       "      <td>2019</td>\n",
       "      <td>Gardner Webb</td>\n",
       "      <td>88.0404</td>\n",
       "      <td>0.980355</td>\n",
       "      <td>0.480146</td>\n",
       "      <td>0.981828</td>\n",
       "    </tr>\n",
       "  </tbody>\n",
       "</table>\n",
       "</div>"
      ],
      "text/plain": [
       "     team1_adjoe team1_teamname  season team2_teamname  team1_adjde  exp_win1  \\\n",
       "921     119.7250       Kentucky    2015        Hampton      85.8155  0.978741   \n",
       "462     116.1109           UCLA    2008   MS Valley St      89.3351  0.953236   \n",
       "199     117.6452           Duke    2004     Alabama St      89.6445  0.957950   \n",
       "70      118.5999           Duke    2002       Winthrop      87.7504  0.969660   \n",
       "25      123.6930       Virginia    2019   Gardner Webb      88.0404  0.980355   \n",
       "\n",
       "     exp_win2  team1_log5  \n",
       "921  0.312700    0.990214  \n",
       "462  0.197019    0.988106  \n",
       "199  0.246514    0.985842  \n",
       "70   0.367453    0.982148  \n",
       "25   0.480146    0.981828  "
      ]
     },
     "execution_count": 11,
     "metadata": {},
     "output_type": "execute_result"
    }
   ],
   "source": [
    "(mm_data\n",
    " [['team1_adjoe','team1_teamname','season','team2_teamname','team1_adjde','exp_win1','exp_win2','team1_log5']]\n",
    " .sort_values(\"team1_log5\", ascending=False).head())"
   ]
  },
  {
   "cell_type": "markdown",
   "metadata": {},
   "source": [
    "## Seed Diff"
   ]
  },
  {
   "cell_type": "code",
   "execution_count": 12,
   "metadata": {
    "ExecuteTime": {
     "end_time": "2020-02-10T14:22:07.942397Z",
     "start_time": "2020-02-10T14:22:07.937951Z"
    }
   },
   "outputs": [],
   "source": [
    "mm_data['seed_diff'] = mm_data['team1_seed'] - mm_data['team2_seed']"
   ]
  },
  {
   "cell_type": "code",
   "execution_count": 13,
   "metadata": {
    "ExecuteTime": {
     "end_time": "2020-02-10T14:22:08.389857Z",
     "start_time": "2020-02-10T14:22:08.370507Z"
    }
   },
   "outputs": [
    {
     "data": {
      "text/html": [
       "<div>\n",
       "<style scoped>\n",
       "    .dataframe tbody tr th:only-of-type {\n",
       "        vertical-align: middle;\n",
       "    }\n",
       "\n",
       "    .dataframe tbody tr th {\n",
       "        vertical-align: top;\n",
       "    }\n",
       "\n",
       "    .dataframe thead th {\n",
       "        text-align: right;\n",
       "    }\n",
       "</style>\n",
       "<table border=\"1\" class=\"dataframe\">\n",
       "  <thead>\n",
       "    <tr style=\"text-align: right;\">\n",
       "      <th></th>\n",
       "      <th>game_id</th>\n",
       "      <th>exp_win1</th>\n",
       "      <th>exp_win2</th>\n",
       "      <th>team2_score</th>\n",
       "      <th>team1_score</th>\n",
       "      <th>diff_dist</th>\n",
       "      <th>team1_log5</th>\n",
       "      <th>team1_id</th>\n",
       "      <th>team2_id</th>\n",
       "      <th>team1_seed</th>\n",
       "      <th>team2_seed</th>\n",
       "      <th>seed_diff</th>\n",
       "    </tr>\n",
       "  </thead>\n",
       "  <tbody>\n",
       "    <tr>\n",
       "      <th>0</th>\n",
       "      <td>2019-1192-1341</td>\n",
       "      <td>0.389061</td>\n",
       "      <td>0.382990</td>\n",
       "      <td>76</td>\n",
       "      <td>82</td>\n",
       "      <td>-648.033425</td>\n",
       "      <td>0.506403</td>\n",
       "      <td>1192</td>\n",
       "      <td>1341</td>\n",
       "      <td>16</td>\n",
       "      <td>16</td>\n",
       "      <td>0</td>\n",
       "    </tr>\n",
       "    <tr>\n",
       "      <th>1</th>\n",
       "      <td>2019-1125-1396</td>\n",
       "      <td>0.800207</td>\n",
       "      <td>0.738939</td>\n",
       "      <td>70</td>\n",
       "      <td>81</td>\n",
       "      <td>-307.876634</td>\n",
       "      <td>0.585922</td>\n",
       "      <td>1125</td>\n",
       "      <td>1396</td>\n",
       "      <td>11</td>\n",
       "      <td>11</td>\n",
       "      <td>0</td>\n",
       "    </tr>\n",
       "    <tr>\n",
       "      <th>2</th>\n",
       "      <td>2019-1295-1300</td>\n",
       "      <td>0.415885</td>\n",
       "      <td>0.208404</td>\n",
       "      <td>74</td>\n",
       "      <td>78</td>\n",
       "      <td>663.316546</td>\n",
       "      <td>0.730051</td>\n",
       "      <td>1295</td>\n",
       "      <td>1300</td>\n",
       "      <td>16</td>\n",
       "      <td>16</td>\n",
       "      <td>0</td>\n",
       "    </tr>\n",
       "    <tr>\n",
       "      <th>3</th>\n",
       "      <td>2019-1113-1385</td>\n",
       "      <td>0.774944</td>\n",
       "      <td>0.721882</td>\n",
       "      <td>65</td>\n",
       "      <td>74</td>\n",
       "      <td>1676.167033</td>\n",
       "      <td>0.570190</td>\n",
       "      <td>1113</td>\n",
       "      <td>1385</td>\n",
       "      <td>11</td>\n",
       "      <td>11</td>\n",
       "      <td>0</td>\n",
       "    </tr>\n",
       "    <tr>\n",
       "      <th>4</th>\n",
       "      <td>2019-1278-1257</td>\n",
       "      <td>0.833312</td>\n",
       "      <td>0.913200</td>\n",
       "      <td>76</td>\n",
       "      <td>86</td>\n",
       "      <td>-391.001293</td>\n",
       "      <td>0.322116</td>\n",
       "      <td>1278</td>\n",
       "      <td>1257</td>\n",
       "      <td>10</td>\n",
       "      <td>7</td>\n",
       "      <td>3</td>\n",
       "    </tr>\n",
       "  </tbody>\n",
       "</table>\n",
       "</div>"
      ],
      "text/plain": [
       "          game_id  exp_win1  exp_win2  team2_score  team1_score    diff_dist  \\\n",
       "0  2019-1192-1341  0.389061  0.382990           76           82  -648.033425   \n",
       "1  2019-1125-1396  0.800207  0.738939           70           81  -307.876634   \n",
       "2  2019-1295-1300  0.415885  0.208404           74           78   663.316546   \n",
       "3  2019-1113-1385  0.774944  0.721882           65           74  1676.167033   \n",
       "4  2019-1278-1257  0.833312  0.913200           76           86  -391.001293   \n",
       "\n",
       "   team1_log5  team1_id  team2_id  team1_seed  team2_seed  seed_diff  \n",
       "0    0.506403      1192      1341          16          16          0  \n",
       "1    0.585922      1125      1396          11          11          0  \n",
       "2    0.730051      1295      1300          16          16          0  \n",
       "3    0.570190      1113      1385          11          11          0  \n",
       "4    0.322116      1278      1257          10           7          3  "
      ]
     },
     "execution_count": 13,
     "metadata": {},
     "output_type": "execute_result"
    }
   ],
   "source": [
    "mm_data[['game_id','exp_win1','exp_win2','team2_score',\n",
    "         'team1_score','diff_dist','team1_log5','team1_id','team2_id','team1_seed','team2_seed','seed_diff']].head()"
   ]
  },
  {
   "cell_type": "markdown",
   "metadata": {},
   "source": [
    "## Split Data"
   ]
  },
  {
   "cell_type": "code",
   "execution_count": 14,
   "metadata": {
    "ExecuteTime": {
     "end_time": "2020-02-10T14:22:08.858634Z",
     "start_time": "2020-02-10T14:22:08.850517Z"
    }
   },
   "outputs": [],
   "source": [
    "mm_data.dropna(subset=['team1_log5'], inplace=True)"
   ]
  },
  {
   "cell_type": "code",
   "execution_count": 15,
   "metadata": {
    "ExecuteTime": {
     "end_time": "2020-02-10T14:22:36.900090Z",
     "start_time": "2020-02-10T14:22:36.895585Z"
    }
   },
   "outputs": [],
   "source": [
    "mm_data['team1_win'] = (mm_data['team1_score']>mm_data['team2_score']).astype(int)"
   ]
  },
  {
   "cell_type": "code",
   "execution_count": 16,
   "metadata": {
    "ExecuteTime": {
     "end_time": "2020-02-10T14:23:19.761405Z",
     "start_time": "2020-02-10T14:23:19.748842Z"
    }
   },
   "outputs": [],
   "source": [
    "training_columns = ['game_id','season','team1_win','exp_win1','exp_win2','team2_score',\n",
    "                                    'team1_score','diff_dist','team1_log5','team1_id','team2_id','seed_diff']\n",
    "mm_data_1 = mm_data.sample(frac=.5, random_state=15)[training_columns]\n",
    "mm_data_2 = mm_data[~mm_data.index.isin(mm_data_1.index)][training_columns].reset_index(drop=True)\n",
    "mm_data_1 = mm_data_1.reset_index(drop=True)"
   ]
  },
  {
   "cell_type": "code",
   "execution_count": 17,
   "metadata": {
    "ExecuteTime": {
     "end_time": "2020-02-10T14:23:20.265747Z",
     "start_time": "2020-02-10T14:23:20.254549Z"
    }
   },
   "outputs": [],
   "source": [
    "mm_data_2['team1_win'] = 0\n",
    "mm_data_2['diff_dist'] = mm_data_2['diff_dist']*-1\n",
    "mm_data_2['team1_log5'] = 1-mm_data_2['team1_log5']\n",
    "mm_data_2['game_id'] = (mm_data_2['game_id'].str.split('-', expand=True)[0] \n",
    "                           + '-' + mm_data_2['game_id'].str.split('-', expand=True)[2] \n",
    "                           + '-' + mm_data_2['game_id'].str.split('-', expand=True)[1]\n",
    "                           ) \n",
    "mm_data_2['seed_diff'] = mm_data_2['seed_diff']*-1\n",
    "mm_data_2.columns = ['game_id', 'season', 'team1_win', 'exp_win2', 'exp_win1', 'team1_score', 'team2_score', 'diff_dist', 'team1_log5',\n",
    " 'team2_id', 'team1_id','seed_diff']"
   ]
  },
  {
   "cell_type": "code",
   "execution_count": 18,
   "metadata": {
    "ExecuteTime": {
     "end_time": "2020-02-10T14:23:21.015318Z",
     "start_time": "2020-02-10T14:23:21.001391Z"
    }
   },
   "outputs": [],
   "source": [
    "mm_train = pd.concat([mm_data_2, mm_data_1]).reset_index(drop=True)"
   ]
  },
  {
   "cell_type": "code",
   "execution_count": 19,
   "metadata": {},
   "outputs": [],
   "source": [
    "train, test = train_test_split(mm_train, train_size=.7)"
   ]
  },
  {
   "cell_type": "code",
   "execution_count": 20,
   "metadata": {},
   "outputs": [],
   "source": [
    "train = train.reset_index(drop=True)\n",
    "test = test.reset_index(drop=True)"
   ]
  },
  {
   "cell_type": "code",
   "execution_count": 21,
   "metadata": {},
   "outputs": [
    {
     "data": {
      "text/html": [
       "<div>\n",
       "<style scoped>\n",
       "    .dataframe tbody tr th:only-of-type {\n",
       "        vertical-align: middle;\n",
       "    }\n",
       "\n",
       "    .dataframe tbody tr th {\n",
       "        vertical-align: top;\n",
       "    }\n",
       "\n",
       "    .dataframe thead th {\n",
       "        text-align: right;\n",
       "    }\n",
       "</style>\n",
       "<table border=\"1\" class=\"dataframe\">\n",
       "  <thead>\n",
       "    <tr style=\"text-align: right;\">\n",
       "      <th></th>\n",
       "      <th>game_id</th>\n",
       "      <th>season</th>\n",
       "      <th>team1_win</th>\n",
       "      <th>exp_win2</th>\n",
       "      <th>exp_win1</th>\n",
       "      <th>team1_score</th>\n",
       "      <th>team2_score</th>\n",
       "      <th>diff_dist</th>\n",
       "      <th>team1_log5</th>\n",
       "      <th>team2_id</th>\n",
       "      <th>team1_id</th>\n",
       "      <th>seed_diff</th>\n",
       "    </tr>\n",
       "  </thead>\n",
       "  <tbody>\n",
       "    <tr>\n",
       "      <th>0</th>\n",
       "      <td>2015-1277-1257</td>\n",
       "      <td>2015</td>\n",
       "      <td>1</td>\n",
       "      <td>0.875558</td>\n",
       "      <td>0.878567</td>\n",
       "      <td>76</td>\n",
       "      <td>70</td>\n",
       "      <td>-292.896059</td>\n",
       "      <td>0.506977</td>\n",
       "      <td>1257</td>\n",
       "      <td>1277</td>\n",
       "      <td>3</td>\n",
       "    </tr>\n",
       "    <tr>\n",
       "      <th>1</th>\n",
       "      <td>2014-1444-1393</td>\n",
       "      <td>2014</td>\n",
       "      <td>0</td>\n",
       "      <td>0.892539</td>\n",
       "      <td>0.618266</td>\n",
       "      <td>53</td>\n",
       "      <td>77</td>\n",
       "      <td>336.760336</td>\n",
       "      <td>0.163181</td>\n",
       "      <td>1393</td>\n",
       "      <td>1444</td>\n",
       "      <td>11</td>\n",
       "    </tr>\n",
       "    <tr>\n",
       "      <th>2</th>\n",
       "      <td>2009-1345-1449</td>\n",
       "      <td>2009</td>\n",
       "      <td>1</td>\n",
       "      <td>0.905763</td>\n",
       "      <td>0.906818</td>\n",
       "      <td>76</td>\n",
       "      <td>74</td>\n",
       "      <td>-898.733674</td>\n",
       "      <td>0.503104</td>\n",
       "      <td>1449</td>\n",
       "      <td>1345</td>\n",
       "      <td>1</td>\n",
       "    </tr>\n",
       "    <tr>\n",
       "      <th>3</th>\n",
       "      <td>2005-1454-1130</td>\n",
       "      <td>2005</td>\n",
       "      <td>1</td>\n",
       "      <td>0.860867</td>\n",
       "      <td>0.784696</td>\n",
       "      <td>83</td>\n",
       "      <td>75</td>\n",
       "      <td>-332.772522</td>\n",
       "      <td>0.370689</td>\n",
       "      <td>1130</td>\n",
       "      <td>1454</td>\n",
       "      <td>8</td>\n",
       "    </tr>\n",
       "    <tr>\n",
       "      <th>4</th>\n",
       "      <td>2012-1378-1143</td>\n",
       "      <td>2012</td>\n",
       "      <td>1</td>\n",
       "      <td>0.830810</td>\n",
       "      <td>0.773302</td>\n",
       "      <td>65</td>\n",
       "      <td>54</td>\n",
       "      <td>-1969.242393</td>\n",
       "      <td>0.409913</td>\n",
       "      <td>1143</td>\n",
       "      <td>1378</td>\n",
       "      <td>0</td>\n",
       "    </tr>\n",
       "    <tr>\n",
       "      <th>...</th>\n",
       "      <td>...</td>\n",
       "      <td>...</td>\n",
       "      <td>...</td>\n",
       "      <td>...</td>\n",
       "      <td>...</td>\n",
       "      <td>...</td>\n",
       "      <td>...</td>\n",
       "      <td>...</td>\n",
       "      <td>...</td>\n",
       "      <td>...</td>\n",
       "      <td>...</td>\n",
       "      <td>...</td>\n",
       "    </tr>\n",
       "    <tr>\n",
       "      <th>820</th>\n",
       "      <td>2014-1163-1246</td>\n",
       "      <td>2014</td>\n",
       "      <td>1</td>\n",
       "      <td>0.884397</td>\n",
       "      <td>0.868820</td>\n",
       "      <td>60</td>\n",
       "      <td>54</td>\n",
       "      <td>1125.588187</td>\n",
       "      <td>0.464019</td>\n",
       "      <td>1246</td>\n",
       "      <td>1163</td>\n",
       "      <td>-1</td>\n",
       "    </tr>\n",
       "    <tr>\n",
       "      <th>821</th>\n",
       "      <td>2017-1112-1315</td>\n",
       "      <td>2017</td>\n",
       "      <td>1</td>\n",
       "      <td>0.491105</td>\n",
       "      <td>0.921917</td>\n",
       "      <td>100</td>\n",
       "      <td>82</td>\n",
       "      <td>-468.169585</td>\n",
       "      <td>0.924440</td>\n",
       "      <td>1315</td>\n",
       "      <td>1112</td>\n",
       "      <td>-13</td>\n",
       "    </tr>\n",
       "    <tr>\n",
       "      <th>822</th>\n",
       "      <td>2012-1242-1345</td>\n",
       "      <td>2012</td>\n",
       "      <td>1</td>\n",
       "      <td>0.835772</td>\n",
       "      <td>0.939384</td>\n",
       "      <td>63</td>\n",
       "      <td>60</td>\n",
       "      <td>610.554221</td>\n",
       "      <td>0.752792</td>\n",
       "      <td>1345</td>\n",
       "      <td>1242</td>\n",
       "      <td>-8</td>\n",
       "    </tr>\n",
       "    <tr>\n",
       "      <th>823</th>\n",
       "      <td>2017-1376-1211</td>\n",
       "      <td>2017</td>\n",
       "      <td>0</td>\n",
       "      <td>0.975337</td>\n",
       "      <td>0.882852</td>\n",
       "      <td>73</td>\n",
       "      <td>77</td>\n",
       "      <td>1238.068898</td>\n",
       "      <td>0.160063</td>\n",
       "      <td>1211</td>\n",
       "      <td>1376</td>\n",
       "      <td>6</td>\n",
       "    </tr>\n",
       "    <tr>\n",
       "      <th>824</th>\n",
       "      <td>2004-1197-1250</td>\n",
       "      <td>2004</td>\n",
       "      <td>1</td>\n",
       "      <td>0.370271</td>\n",
       "      <td>0.243544</td>\n",
       "      <td>72</td>\n",
       "      <td>57</td>\n",
       "      <td>283.418149</td>\n",
       "      <td>0.353819</td>\n",
       "      <td>1250</td>\n",
       "      <td>1197</td>\n",
       "      <td>0</td>\n",
       "    </tr>\n",
       "  </tbody>\n",
       "</table>\n",
       "<p>825 rows × 12 columns</p>\n",
       "</div>"
      ],
      "text/plain": [
       "            game_id  season  team1_win  exp_win2  exp_win1  team1_score  \\\n",
       "0    2015-1277-1257    2015          1  0.875558  0.878567           76   \n",
       "1    2014-1444-1393    2014          0  0.892539  0.618266           53   \n",
       "2    2009-1345-1449    2009          1  0.905763  0.906818           76   \n",
       "3    2005-1454-1130    2005          1  0.860867  0.784696           83   \n",
       "4    2012-1378-1143    2012          1  0.830810  0.773302           65   \n",
       "..              ...     ...        ...       ...       ...          ...   \n",
       "820  2014-1163-1246    2014          1  0.884397  0.868820           60   \n",
       "821  2017-1112-1315    2017          1  0.491105  0.921917          100   \n",
       "822  2012-1242-1345    2012          1  0.835772  0.939384           63   \n",
       "823  2017-1376-1211    2017          0  0.975337  0.882852           73   \n",
       "824  2004-1197-1250    2004          1  0.370271  0.243544           72   \n",
       "\n",
       "     team2_score    diff_dist  team1_log5  team2_id  team1_id  seed_diff  \n",
       "0             70  -292.896059    0.506977      1257      1277          3  \n",
       "1             77   336.760336    0.163181      1393      1444         11  \n",
       "2             74  -898.733674    0.503104      1449      1345          1  \n",
       "3             75  -332.772522    0.370689      1130      1454          8  \n",
       "4             54 -1969.242393    0.409913      1143      1378          0  \n",
       "..           ...          ...         ...       ...       ...        ...  \n",
       "820           54  1125.588187    0.464019      1246      1163         -1  \n",
       "821           82  -468.169585    0.924440      1315      1112        -13  \n",
       "822           60   610.554221    0.752792      1345      1242         -8  \n",
       "823           77  1238.068898    0.160063      1211      1376          6  \n",
       "824           57   283.418149    0.353819      1250      1197          0  \n",
       "\n",
       "[825 rows x 12 columns]"
      ]
     },
     "execution_count": 21,
     "metadata": {},
     "output_type": "execute_result"
    }
   ],
   "source": [
    "train"
   ]
  },
  {
   "cell_type": "markdown",
   "metadata": {},
   "source": [
    "## Initial Check"
   ]
  },
  {
   "cell_type": "code",
   "execution_count": 22,
   "metadata": {
    "ExecuteTime": {
     "end_time": "2020-02-10T14:24:27.674738Z",
     "start_time": "2020-02-10T14:24:27.668393Z"
    }
   },
   "outputs": [
    {
     "data": {
      "text/plain": [
       "team1_win\n",
       "0    0.352795\n",
       "1    0.611344\n",
       "Name: team1_log5, dtype: float64"
      ]
     },
     "execution_count": 22,
     "metadata": {},
     "output_type": "execute_result"
    }
   ],
   "source": [
    "train.groupby('team1_win')['team1_log5'].mean()"
   ]
  },
  {
   "cell_type": "code",
   "execution_count": 23,
   "metadata": {
    "ExecuteTime": {
     "end_time": "2020-02-10T14:24:27.938604Z",
     "start_time": "2020-02-10T14:24:27.931104Z"
    }
   },
   "outputs": [
    {
     "data": {
      "text/plain": [
       "team1_win\n",
       "0    4.477541\n",
       "1   -3.378109\n",
       "Name: seed_diff, dtype: float64"
      ]
     },
     "execution_count": 23,
     "metadata": {},
     "output_type": "execute_result"
    }
   ],
   "source": [
    "train.groupby('team1_win')['seed_diff'].mean()"
   ]
  },
  {
   "cell_type": "code",
   "execution_count": 24,
   "metadata": {
    "ExecuteTime": {
     "end_time": "2020-02-10T14:24:28.316450Z",
     "start_time": "2020-02-10T14:24:28.307529Z"
    }
   },
   "outputs": [
    {
     "data": {
      "text/plain": [
       "team1_win\n",
       "0    256.664905\n",
       "1   -189.212257\n",
       "Name: diff_dist, dtype: float64"
      ]
     },
     "execution_count": 24,
     "metadata": {},
     "output_type": "execute_result"
    }
   ],
   "source": [
    "train.groupby('team1_win')['diff_dist'].mean()"
   ]
  },
  {
   "cell_type": "markdown",
   "metadata": {},
   "source": [
    "## Train Logit"
   ]
  },
  {
   "cell_type": "code",
   "execution_count": 25,
   "metadata": {
    "ExecuteTime": {
     "end_time": "2020-02-10T20:25:35.786613Z",
     "start_time": "2020-02-10T20:25:35.527188Z"
    }
   },
   "outputs": [
    {
     "data": {
      "text/plain": [
       "LogisticRegression()"
      ]
     },
     "execution_count": 25,
     "metadata": {},
     "output_type": "execute_result"
    }
   ],
   "source": [
    "logit = LogisticRegression()\n",
    "logit.fit(X=train[['seed_diff']], y=train['team1_win'])"
   ]
  },
  {
   "cell_type": "code",
   "execution_count": 26,
   "metadata": {
    "ExecuteTime": {
     "end_time": "2020-02-10T20:25:43.303134Z",
     "start_time": "2020-02-10T20:25:43.217078Z"
    }
   },
   "outputs": [
    {
     "name": "stdout",
     "output_type": "stream",
     "text": [
      "Optimization terminated successfully.\n",
      "         Current function value: 0.542809\n",
      "         Iterations 6\n"
     ]
    },
    {
     "data": {
      "text/html": [
       "<table class=\"simpletable\">\n",
       "<caption>Logit Regression Results</caption>\n",
       "<tr>\n",
       "  <th>Dep. Variable:</th>       <td>team1_win</td>    <th>  No. Observations:  </th>  <td>   825</td>  \n",
       "</tr>\n",
       "<tr>\n",
       "  <th>Model:</th>                 <td>Logit</td>      <th>  Df Residuals:      </th>  <td>   823</td>  \n",
       "</tr>\n",
       "<tr>\n",
       "  <th>Method:</th>                 <td>MLE</td>       <th>  Df Model:          </th>  <td>     1</td>  \n",
       "</tr>\n",
       "<tr>\n",
       "  <th>Date:</th>            <td>Fri, 11 Feb 2022</td> <th>  Pseudo R-squ.:     </th>  <td>0.2165</td>  \n",
       "</tr>\n",
       "<tr>\n",
       "  <th>Time:</th>                <td>08:12:31</td>     <th>  Log-Likelihood:    </th> <td> -447.82</td> \n",
       "</tr>\n",
       "<tr>\n",
       "  <th>converged:</th>             <td>True</td>       <th>  LL-Null:           </th> <td> -571.58</td> \n",
       "</tr>\n",
       "<tr>\n",
       "  <th>Covariance Type:</th>     <td>nonrobust</td>    <th>  LLR p-value:       </th> <td>8.999e-56</td>\n",
       "</tr>\n",
       "</table>\n",
       "<table class=\"simpletable\">\n",
       "<tr>\n",
       "      <td></td>         <th>coef</th>     <th>std err</th>      <th>z</th>      <th>P>|z|</th>  <th>[0.025</th>    <th>0.975]</th>  \n",
       "</tr>\n",
       "<tr>\n",
       "  <th>Intercept</th> <td>    0.0577</td> <td>    0.082</td> <td>    0.704</td> <td> 0.481</td> <td>   -0.103</td> <td>    0.218</td>\n",
       "</tr>\n",
       "<tr>\n",
       "  <th>seed_diff</th> <td>   -0.1753</td> <td>    0.013</td> <td>  -13.036</td> <td> 0.000</td> <td>   -0.202</td> <td>   -0.149</td>\n",
       "</tr>\n",
       "</table>"
      ],
      "text/plain": [
       "<class 'statsmodels.iolib.summary.Summary'>\n",
       "\"\"\"\n",
       "                           Logit Regression Results                           \n",
       "==============================================================================\n",
       "Dep. Variable:              team1_win   No. Observations:                  825\n",
       "Model:                          Logit   Df Residuals:                      823\n",
       "Method:                           MLE   Df Model:                            1\n",
       "Date:                Fri, 11 Feb 2022   Pseudo R-squ.:                  0.2165\n",
       "Time:                        08:12:31   Log-Likelihood:                -447.82\n",
       "converged:                       True   LL-Null:                       -571.58\n",
       "Covariance Type:            nonrobust   LLR p-value:                 8.999e-56\n",
       "==============================================================================\n",
       "                 coef    std err          z      P>|z|      [0.025      0.975]\n",
       "------------------------------------------------------------------------------\n",
       "Intercept      0.0577      0.082      0.704      0.481      -0.103       0.218\n",
       "seed_diff     -0.1753      0.013    -13.036      0.000      -0.202      -0.149\n",
       "==============================================================================\n",
       "\"\"\""
      ]
     },
     "execution_count": 26,
     "metadata": {},
     "output_type": "execute_result"
    }
   ],
   "source": [
    "seed_smlogit = smf.logit(\"team1_win ~ seed_diff\", train).fit()\n",
    "seed_smlogit.summary()"
   ]
  },
  {
   "cell_type": "code",
   "execution_count": 27,
   "metadata": {
    "ExecuteTime": {
     "end_time": "2020-02-10T20:25:53.991380Z",
     "start_time": "2020-02-10T20:25:53.971576Z"
    }
   },
   "outputs": [],
   "source": [
    "test['prob'] = logit.predict_proba(test[['seed_diff']])[:,1]\n",
    "test['prediction'] = logit.predict(test[['seed_diff']])"
   ]
  },
  {
   "cell_type": "code",
   "execution_count": 28,
   "metadata": {
    "ExecuteTime": {
     "end_time": "2020-02-10T20:26:07.253272Z",
     "start_time": "2020-02-10T20:26:07.205581Z"
    }
   },
   "outputs": [
    {
     "data": {
      "text/html": [
       "<div>\n",
       "<style scoped>\n",
       "    .dataframe tbody tr th:only-of-type {\n",
       "        vertical-align: middle;\n",
       "    }\n",
       "\n",
       "    .dataframe tbody tr th {\n",
       "        vertical-align: top;\n",
       "    }\n",
       "\n",
       "    .dataframe thead th {\n",
       "        text-align: right;\n",
       "    }\n",
       "</style>\n",
       "<table border=\"1\" class=\"dataframe\">\n",
       "  <thead>\n",
       "    <tr style=\"text-align: right;\">\n",
       "      <th></th>\n",
       "      <th>game_id</th>\n",
       "      <th>seed_diff</th>\n",
       "      <th>team1_win</th>\n",
       "      <th>prob</th>\n",
       "      <th>prediction</th>\n",
       "    </tr>\n",
       "  </thead>\n",
       "  <tbody>\n",
       "    <tr>\n",
       "      <th>0</th>\n",
       "      <td>2005-1452-1257</td>\n",
       "      <td>3</td>\n",
       "      <td>0</td>\n",
       "      <td>0.385038</td>\n",
       "      <td>0</td>\n",
       "    </tr>\n",
       "    <tr>\n",
       "      <th>1</th>\n",
       "      <td>2003-1266-1221</td>\n",
       "      <td>-11</td>\n",
       "      <td>1</td>\n",
       "      <td>0.879322</td>\n",
       "      <td>1</td>\n",
       "    </tr>\n",
       "    <tr>\n",
       "      <th>2</th>\n",
       "      <td>2013-1235-1326</td>\n",
       "      <td>8</td>\n",
       "      <td>0</td>\n",
       "      <td>0.206733</td>\n",
       "      <td>0</td>\n",
       "    </tr>\n",
       "    <tr>\n",
       "      <th>3</th>\n",
       "      <td>2011-1323-1199</td>\n",
       "      <td>-8</td>\n",
       "      <td>0</td>\n",
       "      <td>0.811551</td>\n",
       "      <td>1</td>\n",
       "    </tr>\n",
       "    <tr>\n",
       "      <th>4</th>\n",
       "      <td>2004-1448-1433</td>\n",
       "      <td>-9</td>\n",
       "      <td>1</td>\n",
       "      <td>0.836911</td>\n",
       "      <td>1</td>\n",
       "    </tr>\n",
       "  </tbody>\n",
       "</table>\n",
       "</div>"
      ],
      "text/plain": [
       "          game_id  seed_diff  team1_win      prob  prediction\n",
       "0  2005-1452-1257          3          0  0.385038           0\n",
       "1  2003-1266-1221        -11          1  0.879322           1\n",
       "2  2013-1235-1326          8          0  0.206733           0\n",
       "3  2011-1323-1199         -8          0  0.811551           1\n",
       "4  2004-1448-1433         -9          1  0.836911           1"
      ]
     },
     "execution_count": 28,
     "metadata": {},
     "output_type": "execute_result"
    }
   ],
   "source": [
    "test[['game_id','seed_diff','team1_win','prob','prediction']].head()"
   ]
  },
  {
   "cell_type": "code",
   "execution_count": 29,
   "metadata": {
    "ExecuteTime": {
     "end_time": "2020-02-10T20:26:23.115305Z",
     "start_time": "2020-02-10T20:26:23.100257Z"
    }
   },
   "outputs": [
    {
     "data": {
      "text/plain": [
       "team1_win\n",
       "0    0.396588\n",
       "1    0.610150\n",
       "Name: prob, dtype: float64"
      ]
     },
     "execution_count": 29,
     "metadata": {},
     "output_type": "execute_result"
    }
   ],
   "source": [
    "test.groupby('team1_win')['prob'].mean()"
   ]
  },
  {
   "cell_type": "code",
   "execution_count": 30,
   "metadata": {
    "ExecuteTime": {
     "end_time": "2020-02-10T20:26:24.709810Z",
     "start_time": "2020-02-10T20:26:24.377062Z"
    }
   },
   "outputs": [
    {
     "data": {
      "text/plain": [
       "<AxesSubplot:xlabel='prob', ylabel='team1_log5'>"
      ]
     },
     "execution_count": 30,
     "metadata": {},
     "output_type": "execute_result"
    },
    {
     "data": {
      "image/png": "[encoded data removed]",
      "text/plain": [
       "<Figure size 432x288 with 1 Axes>"
      ]
     },
     "metadata": {},
     "output_type": "display_data"
    }
   ],
   "source": [
    "test.plot(kind='scatter', x='prob',y='team1_log5')"
   ]
  },
  {
   "cell_type": "code",
   "execution_count": 31,
   "metadata": {
    "ExecuteTime": {
     "end_time": "2020-02-10T20:26:27.727229Z",
     "start_time": "2020-02-10T20:26:27.694587Z"
    }
   },
   "outputs": [
    {
     "data": {
      "text/plain": [
       "array([[108,  58],\n",
       "       [ 57, 131]])"
      ]
     },
     "execution_count": 31,
     "metadata": {},
     "output_type": "execute_result"
    }
   ],
   "source": [
    "confusion_matrix(test['team1_win'], test['prediction'])"
   ]
  },
  {
   "cell_type": "code",
   "execution_count": 32,
   "metadata": {
    "ExecuteTime": {
     "end_time": "2020-02-10T20:26:28.653279Z",
     "start_time": "2020-02-10T20:26:28.646947Z"
    }
   },
   "outputs": [
    {
     "data": {
      "text/plain": [
       "0.6751412429378532"
      ]
     },
     "execution_count": 32,
     "metadata": {},
     "output_type": "execute_result"
    }
   ],
   "source": [
    "accuracy_score(test['team1_win'], test['prediction'],)"
   ]
  },
  {
   "cell_type": "code",
   "execution_count": 33,
   "metadata": {
    "ExecuteTime": {
     "end_time": "2020-02-10T20:26:28.967461Z",
     "start_time": "2020-02-10T20:26:28.952342Z"
    }
   },
   "outputs": [
    {
     "data": {
      "text/plain": [
       "0.6931216931216931"
      ]
     },
     "execution_count": 33,
     "metadata": {},
     "output_type": "execute_result"
    }
   ],
   "source": [
    "precision_score(test['team1_win'], test['prediction'])"
   ]
  },
  {
   "cell_type": "code",
   "execution_count": 34,
   "metadata": {
    "ExecuteTime": {
     "end_time": "2020-02-10T20:26:29.345727Z",
     "start_time": "2020-02-10T20:26:29.336086Z"
    }
   },
   "outputs": [
    {
     "data": {
      "text/plain": [
       "0.6968085106382979"
      ]
     },
     "execution_count": 34,
     "metadata": {},
     "output_type": "execute_result"
    }
   ],
   "source": [
    "recall_score(test['team1_win'], test['prediction'])"
   ]
  },
  {
   "cell_type": "code",
   "execution_count": 35,
   "metadata": {
    "ExecuteTime": {
     "end_time": "2020-02-10T20:26:30.803835Z",
     "start_time": "2020-02-10T20:26:30.789776Z"
    }
   },
   "outputs": [
    {
     "data": {
      "text/plain": [
       "0.6949602122015914"
      ]
     },
     "execution_count": 35,
     "metadata": {},
     "output_type": "execute_result"
    }
   ],
   "source": [
    "f1_score(test['team1_win'], test['prediction'])"
   ]
  },
  {
   "cell_type": "code",
   "execution_count": 36,
   "metadata": {
    "ExecuteTime": {
     "end_time": "2020-02-10T20:26:31.045631Z",
     "start_time": "2020-02-10T20:26:31.036056Z"
    }
   },
   "outputs": [
    {
     "data": {
      "text/plain": [
       "0.5919865982603512"
      ]
     },
     "execution_count": 36,
     "metadata": {},
     "output_type": "execute_result"
    }
   ],
   "source": [
    "log_loss(test['team1_win'].values, test['prob'].values, labels=[0,1])"
   ]
  },
  {
   "cell_type": "code",
   "execution_count": 37,
   "metadata": {
    "ExecuteTime": {
     "end_time": "2020-02-10T20:26:40.972339Z",
     "start_time": "2020-02-10T20:26:40.957831Z"
    }
   },
   "outputs": [],
   "source": [
    "def plot_roc(fpr, tpr, roc_auc):\n",
    "    \"\"\"Plots the ROC curve for the win probability model along with\n",
    "    the AUC.\n",
    "    \"\"\"\n",
    "    fig, ax = plt.subplots()\n",
    "    ax.set(title='Receiver Operating Characteristic',\n",
    "           xlim=[0, 1], ylim=[0, 1], xlabel='False Positive Rate',\n",
    "           ylabel='True Positive Rate')\n",
    "    ax.plot(fpr, tpr, 'b', label='AUC = %0.2f' % roc_auc)\n",
    "    ax.plot([0, 1], [0, 1], 'k--')\n",
    "    ax.legend(loc='lower right')"
   ]
  },
  {
   "cell_type": "code",
   "execution_count": 38,
   "metadata": {
    "ExecuteTime": {
     "end_time": "2020-02-10T20:26:42.149641Z",
     "start_time": "2020-02-10T20:26:41.267417Z"
    }
   },
   "outputs": [
    {
     "data": {
      "image/png": "[encoded data removed]",
      "text/plain": [
       "<Figure size 432x288 with 1 Axes>"
      ]
     },
     "metadata": {},
     "output_type": "display_data"
    }
   ],
   "source": [
    "fpr, tpr, thresholds = roc_curve(test['team1_win'].values, test['prob'].values)\n",
    "roc_auc = auc(fpr, tpr)\n",
    "plot_roc(fpr, tpr, roc_auc)"
   ]
  },
  {
   "cell_type": "code",
   "execution_count": 39,
   "metadata": {
    "ExecuteTime": {
     "end_time": "2020-02-10T20:26:43.638713Z",
     "start_time": "2020-02-10T20:26:43.622983Z"
    }
   },
   "outputs": [
    {
     "data": {
      "text/plain": [
       "0.7467476288131248"
      ]
     },
     "execution_count": 39,
     "metadata": {},
     "output_type": "execute_result"
    }
   ],
   "source": [
    "roc_auc_score(test['team1_win'].values, test['prob'].values)"
   ]
  },
  {
   "cell_type": "markdown",
   "metadata": {},
   "source": [
    "## Add Seed Difference & Distance"
   ]
  },
  {
   "cell_type": "code",
   "execution_count": 40,
   "metadata": {
    "ExecuteTime": {
     "end_time": "2020-02-10T20:26:45.174514Z",
     "start_time": "2020-02-10T20:26:45.149185Z"
    }
   },
   "outputs": [
    {
     "data": {
      "text/plain": [
       "LogisticRegression()"
      ]
     },
     "execution_count": 40,
     "metadata": {},
     "output_type": "execute_result"
    }
   ],
   "source": [
    "logit = LogisticRegression()\n",
    "logit.fit(train[['team1_log5','diff_dist','seed_diff']], train['team1_win'])"
   ]
  },
  {
   "cell_type": "code",
   "execution_count": 41,
   "metadata": {
    "ExecuteTime": {
     "end_time": "2020-02-10T20:26:49.219248Z",
     "start_time": "2020-02-10T20:26:49.173866Z"
    }
   },
   "outputs": [
    {
     "name": "stdout",
     "output_type": "stream",
     "text": [
      "Optimization terminated successfully.\n",
      "         Current function value: 0.525229\n",
      "         Iterations 6\n"
     ]
    },
    {
     "data": {
      "text/html": [
       "<table class=\"simpletable\">\n",
       "<caption>Logit Regression Results</caption>\n",
       "<tr>\n",
       "  <th>Dep. Variable:</th>       <td>team1_win</td>    <th>  No. Observations:  </th>  <td>   825</td>  \n",
       "</tr>\n",
       "<tr>\n",
       "  <th>Model:</th>                 <td>Logit</td>      <th>  Df Residuals:      </th>  <td>   821</td>  \n",
       "</tr>\n",
       "<tr>\n",
       "  <th>Method:</th>                 <td>MLE</td>       <th>  Df Model:          </th>  <td>     3</td>  \n",
       "</tr>\n",
       "<tr>\n",
       "  <th>Date:</th>            <td>Fri, 11 Feb 2022</td> <th>  Pseudo R-squ.:     </th>  <td>0.2419</td>  \n",
       "</tr>\n",
       "<tr>\n",
       "  <th>Time:</th>                <td>08:12:32</td>     <th>  Log-Likelihood:    </th> <td> -433.31</td> \n",
       "</tr>\n",
       "<tr>\n",
       "  <th>converged:</th>             <td>True</td>       <th>  LL-Null:           </th> <td> -571.58</td> \n",
       "</tr>\n",
       "<tr>\n",
       "  <th>Covariance Type:</th>     <td>nonrobust</td>    <th>  LLR p-value:       </th> <td>1.193e-59</td>\n",
       "</tr>\n",
       "</table>\n",
       "<table class=\"simpletable\">\n",
       "<tr>\n",
       "       <td></td>         <th>coef</th>     <th>std err</th>      <th>z</th>      <th>P>|z|</th>  <th>[0.025</th>    <th>0.975]</th>  \n",
       "</tr>\n",
       "<tr>\n",
       "  <th>Intercept</th>  <td>   -2.0251</td> <td>    0.413</td> <td>   -4.906</td> <td> 0.000</td> <td>   -2.834</td> <td>   -1.216</td>\n",
       "</tr>\n",
       "<tr>\n",
       "  <th>team1_log5</th> <td>    4.1957</td> <td>    0.814</td> <td>    5.151</td> <td> 0.000</td> <td>    2.599</td> <td>    5.792</td>\n",
       "</tr>\n",
       "<tr>\n",
       "  <th>diff_dist</th>  <td>-4.184e-05</td> <td> 7.05e-05</td> <td>   -0.593</td> <td> 0.553</td> <td>   -0.000</td> <td> 9.64e-05</td>\n",
       "</tr>\n",
       "<tr>\n",
       "  <th>seed_diff</th>  <td>   -0.0590</td> <td>    0.025</td> <td>   -2.346</td> <td> 0.019</td> <td>   -0.108</td> <td>   -0.010</td>\n",
       "</tr>\n",
       "</table>"
      ],
      "text/plain": [
       "<class 'statsmodels.iolib.summary.Summary'>\n",
       "\"\"\"\n",
       "                           Logit Regression Results                           \n",
       "==============================================================================\n",
       "Dep. Variable:              team1_win   No. Observations:                  825\n",
       "Model:                          Logit   Df Residuals:                      821\n",
       "Method:                           MLE   Df Model:                            3\n",
       "Date:                Fri, 11 Feb 2022   Pseudo R-squ.:                  0.2419\n",
       "Time:                        08:12:32   Log-Likelihood:                -433.31\n",
       "converged:                       True   LL-Null:                       -571.58\n",
       "Covariance Type:            nonrobust   LLR p-value:                 1.193e-59\n",
       "==============================================================================\n",
       "                 coef    std err          z      P>|z|      [0.025      0.975]\n",
       "------------------------------------------------------------------------------\n",
       "Intercept     -2.0251      0.413     -4.906      0.000      -2.834      -1.216\n",
       "team1_log5     4.1957      0.814      5.151      0.000       2.599       5.792\n",
       "diff_dist  -4.184e-05   7.05e-05     -0.593      0.553      -0.000    9.64e-05\n",
       "seed_diff     -0.0590      0.025     -2.346      0.019      -0.108      -0.010\n",
       "==============================================================================\n",
       "\"\"\""
      ]
     },
     "execution_count": 41,
     "metadata": {},
     "output_type": "execute_result"
    }
   ],
   "source": [
    "smlogit = smf.logit(\"team1_win ~ team1_log5 + diff_dist + seed_diff\", train).fit()\n",
    "smlogit.summary()"
   ]
  },
  {
   "cell_type": "code",
   "execution_count": 42,
   "metadata": {
    "ExecuteTime": {
     "end_time": "2020-02-10T20:26:52.025921Z",
     "start_time": "2020-02-10T20:26:52.009649Z"
    }
   },
   "outputs": [],
   "source": [
    "test['prob'] = logit.predict_proba(test[['team1_log5','diff_dist','seed_diff']])[:,1]\n",
    "test['prediction'] = logit.predict(test[['team1_log5','diff_dist','seed_diff']])"
   ]
  },
  {
   "cell_type": "code",
   "execution_count": 43,
   "metadata": {
    "ExecuteTime": {
     "end_time": "2020-02-10T20:26:53.841100Z",
     "start_time": "2020-02-10T20:26:53.833543Z"
    }
   },
   "outputs": [
    {
     "data": {
      "text/plain": [
       "0.6694915254237288"
      ]
     },
     "execution_count": 43,
     "metadata": {},
     "output_type": "execute_result"
    }
   ],
   "source": [
    "accuracy_score(test['team1_win'], test['prediction'],)"
   ]
  },
  {
   "cell_type": "code",
   "execution_count": 44,
   "metadata": {
    "ExecuteTime": {
     "end_time": "2020-02-10T20:26:54.078877Z",
     "start_time": "2020-02-10T20:26:54.069268Z"
    }
   },
   "outputs": [
    {
     "data": {
      "text/plain": [
       "0.6878306878306878"
      ]
     },
     "execution_count": 44,
     "metadata": {},
     "output_type": "execute_result"
    }
   ],
   "source": [
    "precision_score(test['team1_win'], test['prediction'])"
   ]
  },
  {
   "cell_type": "code",
   "execution_count": 45,
   "metadata": {
    "ExecuteTime": {
     "end_time": "2020-02-10T20:26:54.737288Z",
     "start_time": "2020-02-10T20:26:54.732614Z"
    }
   },
   "outputs": [
    {
     "data": {
      "text/plain": [
       "0.6914893617021277"
      ]
     },
     "execution_count": 45,
     "metadata": {},
     "output_type": "execute_result"
    }
   ],
   "source": [
    "recall_score(test['team1_win'], test['prediction'])"
   ]
  },
  {
   "cell_type": "code",
   "execution_count": 46,
   "metadata": {
    "ExecuteTime": {
     "end_time": "2020-02-10T20:26:54.980079Z",
     "start_time": "2020-02-10T20:26:54.972485Z"
    }
   },
   "outputs": [
    {
     "data": {
      "text/plain": [
       "0.6896551724137931"
      ]
     },
     "execution_count": 46,
     "metadata": {},
     "output_type": "execute_result"
    }
   ],
   "source": [
    "f1_score(test['team1_win'], test['prediction'])"
   ]
  },
  {
   "cell_type": "code",
   "execution_count": 47,
   "metadata": {
    "ExecuteTime": {
     "end_time": "2020-02-10T20:26:55.401886Z",
     "start_time": "2020-02-10T20:26:55.389937Z"
    }
   },
   "outputs": [
    {
     "data": {
      "text/plain": [
       "0.5881939475752272"
      ]
     },
     "execution_count": 47,
     "metadata": {},
     "output_type": "execute_result"
    }
   ],
   "source": [
    "log_loss(test['team1_win'].values, test['prob'].values)"
   ]
  },
  {
   "cell_type": "code",
   "execution_count": 48,
   "metadata": {
    "ExecuteTime": {
     "end_time": "2020-02-10T20:27:06.558406Z",
     "start_time": "2020-02-10T20:27:06.360965Z"
    }
   },
   "outputs": [
    {
     "data": {
      "image/png": "[encoded data removed]",
      "text/plain": [
       "<Figure size 432x288 with 1 Axes>"
      ]
     },
     "metadata": {},
     "output_type": "display_data"
    }
   ],
   "source": [
    "fpr, tpr, thresholds = roc_curve(test['team1_win'].values, test['prob'].values)\n",
    "roc_auc = auc(fpr, tpr)\n",
    "plot_roc(fpr, tpr, roc_auc)"
   ]
  },
  {
   "cell_type": "code",
   "execution_count": 49,
   "metadata": {
    "ExecuteTime": {
     "end_time": "2020-02-10T14:24:41.266595Z",
     "start_time": "2020-02-10T14:24:41.259398Z"
    }
   },
   "outputs": [
    {
     "data": {
      "text/plain": [
       "0.7518584978210716"
      ]
     },
     "execution_count": 49,
     "metadata": {},
     "output_type": "execute_result"
    }
   ],
   "source": [
    "roc_auc_score(test['team1_win'].values, test['prob'].values)"
   ]
  },
  {
   "cell_type": "markdown",
   "metadata": {},
   "source": [
    "## Create Example Submission"
   ]
  },
  {
   "cell_type": "code",
   "execution_count": 50,
   "metadata": {},
   "outputs": [],
   "source": [
    "example_submission = pd.read_csv('NCAA_Tourney_2002_2021.csv').query(\"season==2019\").reset_index(drop=True)"
   ]
  },
  {
   "cell_type": "code",
   "execution_count": 51,
   "metadata": {},
   "outputs": [],
   "source": [
    "example_submission['seed_diff'] = example_submission['team1_seed'] - example_submission['team2_seed']"
   ]
  },
  {
   "cell_type": "code",
   "execution_count": 52,
   "metadata": {},
   "outputs": [],
   "source": [
    "example_submission['prob'] = seed_smlogit.predict(example_submission['seed_diff'])"
   ]
  },
  {
   "cell_type": "code",
   "execution_count": 53,
   "metadata": {},
   "outputs": [
    {
     "data": {
      "text/html": [
       "<div>\n",
       "<style scoped>\n",
       "    .dataframe tbody tr th:only-of-type {\n",
       "        vertical-align: middle;\n",
       "    }\n",
       "\n",
       "    .dataframe tbody tr th {\n",
       "        vertical-align: top;\n",
       "    }\n",
       "\n",
       "    .dataframe thead th {\n",
       "        text-align: right;\n",
       "    }\n",
       "</style>\n",
       "<table border=\"1\" class=\"dataframe\">\n",
       "  <thead>\n",
       "    <tr style=\"text-align: right;\">\n",
       "      <th></th>\n",
       "      <th>game_id</th>\n",
       "      <th>prob</th>\n",
       "    </tr>\n",
       "  </thead>\n",
       "  <tbody>\n",
       "    <tr>\n",
       "      <th>0</th>\n",
       "      <td>2019-1192-1341</td>\n",
       "      <td>0.514424</td>\n",
       "    </tr>\n",
       "    <tr>\n",
       "      <th>1</th>\n",
       "      <td>2019-1125-1396</td>\n",
       "      <td>0.514424</td>\n",
       "    </tr>\n",
       "    <tr>\n",
       "      <th>2</th>\n",
       "      <td>2019-1295-1300</td>\n",
       "      <td>0.514424</td>\n",
       "    </tr>\n",
       "    <tr>\n",
       "      <th>3</th>\n",
       "      <td>2019-1113-1385</td>\n",
       "      <td>0.514424</td>\n",
       "    </tr>\n",
       "    <tr>\n",
       "      <th>4</th>\n",
       "      <td>2019-1278-1257</td>\n",
       "      <td>0.385021</td>\n",
       "    </tr>\n",
       "  </tbody>\n",
       "</table>\n",
       "</div>"
      ],
      "text/plain": [
       "          game_id      prob\n",
       "0  2019-1192-1341  0.514424\n",
       "1  2019-1125-1396  0.514424\n",
       "2  2019-1295-1300  0.514424\n",
       "3  2019-1113-1385  0.514424\n",
       "4  2019-1278-1257  0.385021"
      ]
     },
     "execution_count": 53,
     "metadata": {},
     "output_type": "execute_result"
    }
   ],
   "source": [
    "example_submission[['game_id','prob']].head()"
   ]
  },
  {
   "cell_type": "code",
   "execution_count": 54,
   "metadata": {},
   "outputs": [
    {
     "data": {
      "text/plain": [
       "(67, 2)"
      ]
     },
     "execution_count": 54,
     "metadata": {},
     "output_type": "execute_result"
    }
   ],
   "source": [
    "example_submission[['game_id','prob']].shape"
   ]
  },
  {
   "cell_type": "code",
   "execution_count": 55,
   "metadata": {},
   "outputs": [],
   "source": [
    "example_submission[['game_id','prob']].to_csv(\"trp_example_submission.csv\", index=False)"
   ]
  }
 ],
 "metadata": {
  "kernelspec": {
   "display_name": "Python 3 (ipykernel)",
   "language": "python",
   "name": "python3"
  },
  "language_info": {
   "codemirror_mode": {
    "name": "ipython",
    "version": 3
   },
   "file_extension": ".py",
   "mimetype": "text/x-python",
   "name": "python",
   "nbconvert_exporter": "python",
   "pygments_lexer": "ipython3",
   "version": "3.8.2"
  }
 },
 "nbformat": 4,
 "nbformat_minor": 1
}
